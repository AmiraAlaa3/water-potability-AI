{
 "cells": [
  {
   "cell_type": "code",
   "execution_count": 1,
   "id": "a9fb39fc",
   "metadata": {
    "execution": {
     "iopub.execute_input": "2021-10-24T11:53:09.019239Z",
     "iopub.status.busy": "2021-10-24T11:53:09.017361Z",
     "iopub.status.idle": "2021-10-24T11:53:10.408262Z",
     "shell.execute_reply": "2021-10-24T11:53:10.407496Z",
     "shell.execute_reply.started": "2021-10-24T11:50:45.159477Z"
    },
    "id": "onAt477LXtKh",
    "papermill": {
     "duration": 1.452022,
     "end_time": "2021-10-24T11:53:10.408462",
     "exception": false,
     "start_time": "2021-10-24T11:53:08.956440",
     "status": "completed"
    },
    "tags": []
   },
   "outputs": [],
   "source": [
    "import numpy as np \n",
    "from sklearn.model_selection import cross_val_score\n",
    "from sklearn.model_selection import train_test_split\n",
    "import pandas as pd \n",
    "import seaborn as sns\n",
    "import matplotlib.pyplot as plt \n",
    "#Scikit-learn models\n",
    "from sklearn import linear_model\n",
    "from sklearn.metrics import mean_squared_error, r2_score\n",
    "from sklearn.metrics import confusion_matrix\n",
    "from sklearn.linear_model import LogisticRegression\n",
    "from sklearn.svm import SVC\n",
    "from sklearn.tree import DecisionTreeClassifier\n",
    "from sklearn.tree import DecisionTreeRegressor\n",
    "from sklearn.ensemble import AdaBoostClassifier\n",
    "from sklearn.neighbors import KNeighborsClassifier\n",
    "from sklearn.naive_bayes import GaussianNB \n",
    "# Scikit-learn metrics\n",
    "from sklearn.metrics import accuracy_score\n",
    "from sklearn import metrics"
   ]
  },
  {
   "cell_type": "code",
   "execution_count": 2,
   "id": "5877da8a",
   "metadata": {
    "execution": {
     "iopub.execute_input": "2021-10-24T11:53:10.521760Z",
     "iopub.status.busy": "2021-10-24T11:53:10.521057Z",
     "iopub.status.idle": "2021-10-24T11:53:10.558373Z",
     "shell.execute_reply": "2021-10-24T11:53:10.558960Z",
     "shell.execute_reply.started": "2021-10-24T11:50:45.170613Z"
    },
    "id": "4LEyXMuzZda_",
    "papermill": {
     "duration": 0.097234,
     "end_time": "2021-10-24T11:53:10.559183",
     "exception": false,
     "start_time": "2021-10-24T11:53:10.461949",
     "status": "completed"
    },
    "tags": []
   },
   "outputs": [],
   "source": [
    "df = pd.read_csv('../input/water-potability/water_potability.csv')"
   ]
  },
  {
   "cell_type": "code",
   "execution_count": 3,
   "id": "4d097724",
   "metadata": {
    "execution": {
     "iopub.execute_input": "2021-10-24T11:53:10.672672Z",
     "iopub.status.busy": "2021-10-24T11:53:10.672063Z",
     "iopub.status.idle": "2021-10-24T11:53:10.707462Z",
     "shell.execute_reply": "2021-10-24T11:53:10.706925Z",
     "shell.execute_reply.started": "2021-10-24T11:50:45.213897Z"
    },
    "id": "a6hw86kkEV0w",
    "outputId": "99db2655-bfd6-4d7f-9f91-067602fdaff6",
    "papermill": {
     "duration": 0.091986,
     "end_time": "2021-10-24T11:53:10.707599",
     "exception": false,
     "start_time": "2021-10-24T11:53:10.615613",
     "status": "completed"
    },
    "tags": []
   },
   "outputs": [
    {
     "data": {
      "text/html": [
       "<div>\n",
       "<style scoped>\n",
       "    .dataframe tbody tr th:only-of-type {\n",
       "        vertical-align: middle;\n",
       "    }\n",
       "\n",
       "    .dataframe tbody tr th {\n",
       "        vertical-align: top;\n",
       "    }\n",
       "\n",
       "    .dataframe thead th {\n",
       "        text-align: right;\n",
       "    }\n",
       "</style>\n",
       "<table border=\"1\" class=\"dataframe\">\n",
       "  <thead>\n",
       "    <tr style=\"text-align: right;\">\n",
       "      <th></th>\n",
       "      <th>ph</th>\n",
       "      <th>Hardness</th>\n",
       "      <th>Solids</th>\n",
       "      <th>Chloramines</th>\n",
       "      <th>Sulfate</th>\n",
       "      <th>Conductivity</th>\n",
       "      <th>Organic_carbon</th>\n",
       "      <th>Trihalomethanes</th>\n",
       "      <th>Turbidity</th>\n",
       "      <th>Potability</th>\n",
       "    </tr>\n",
       "  </thead>\n",
       "  <tbody>\n",
       "    <tr>\n",
       "      <th>0</th>\n",
       "      <td>NaN</td>\n",
       "      <td>204.890455</td>\n",
       "      <td>20791.318981</td>\n",
       "      <td>7.300212</td>\n",
       "      <td>368.516441</td>\n",
       "      <td>564.308654</td>\n",
       "      <td>10.379783</td>\n",
       "      <td>86.990970</td>\n",
       "      <td>2.963135</td>\n",
       "      <td>0</td>\n",
       "    </tr>\n",
       "    <tr>\n",
       "      <th>1</th>\n",
       "      <td>3.716080</td>\n",
       "      <td>129.422921</td>\n",
       "      <td>18630.057858</td>\n",
       "      <td>6.635246</td>\n",
       "      <td>NaN</td>\n",
       "      <td>592.885359</td>\n",
       "      <td>15.180013</td>\n",
       "      <td>56.329076</td>\n",
       "      <td>4.500656</td>\n",
       "      <td>0</td>\n",
       "    </tr>\n",
       "    <tr>\n",
       "      <th>2</th>\n",
       "      <td>8.099124</td>\n",
       "      <td>224.236259</td>\n",
       "      <td>19909.541732</td>\n",
       "      <td>9.275884</td>\n",
       "      <td>NaN</td>\n",
       "      <td>418.606213</td>\n",
       "      <td>16.868637</td>\n",
       "      <td>66.420093</td>\n",
       "      <td>3.055934</td>\n",
       "      <td>0</td>\n",
       "    </tr>\n",
       "    <tr>\n",
       "      <th>3</th>\n",
       "      <td>8.316766</td>\n",
       "      <td>214.373394</td>\n",
       "      <td>22018.417441</td>\n",
       "      <td>8.059332</td>\n",
       "      <td>356.886136</td>\n",
       "      <td>363.266516</td>\n",
       "      <td>18.436524</td>\n",
       "      <td>100.341674</td>\n",
       "      <td>4.628771</td>\n",
       "      <td>0</td>\n",
       "    </tr>\n",
       "    <tr>\n",
       "      <th>4</th>\n",
       "      <td>9.092223</td>\n",
       "      <td>181.101509</td>\n",
       "      <td>17978.986339</td>\n",
       "      <td>6.546600</td>\n",
       "      <td>310.135738</td>\n",
       "      <td>398.410813</td>\n",
       "      <td>11.558279</td>\n",
       "      <td>31.997993</td>\n",
       "      <td>4.075075</td>\n",
       "      <td>0</td>\n",
       "    </tr>\n",
       "  </tbody>\n",
       "</table>\n",
       "</div>"
      ],
      "text/plain": [
       "         ph    Hardness        Solids  Chloramines     Sulfate  Conductivity  \\\n",
       "0       NaN  204.890455  20791.318981     7.300212  368.516441    564.308654   \n",
       "1  3.716080  129.422921  18630.057858     6.635246         NaN    592.885359   \n",
       "2  8.099124  224.236259  19909.541732     9.275884         NaN    418.606213   \n",
       "3  8.316766  214.373394  22018.417441     8.059332  356.886136    363.266516   \n",
       "4  9.092223  181.101509  17978.986339     6.546600  310.135738    398.410813   \n",
       "\n",
       "   Organic_carbon  Trihalomethanes  Turbidity  Potability  \n",
       "0       10.379783        86.990970   2.963135           0  \n",
       "1       15.180013        56.329076   4.500656           0  \n",
       "2       16.868637        66.420093   3.055934           0  \n",
       "3       18.436524       100.341674   4.628771           0  \n",
       "4       11.558279        31.997993   4.075075           0  "
      ]
     },
     "execution_count": 3,
     "metadata": {},
     "output_type": "execute_result"
    }
   ],
   "source": [
    "df.head()"
   ]
  },
  {
   "cell_type": "code",
   "execution_count": 4,
   "id": "08b01adf",
   "metadata": {
    "execution": {
     "iopub.execute_input": "2021-10-24T11:53:10.831569Z",
     "iopub.status.busy": "2021-10-24T11:53:10.830394Z",
     "iopub.status.idle": "2021-10-24T11:53:10.849665Z",
     "shell.execute_reply": "2021-10-24T11:53:10.849153Z",
     "shell.execute_reply.started": "2021-10-24T11:50:45.240744Z"
    },
    "id": "3QafetnzEaDb",
    "outputId": "936a3bc7-ef60-4e04-d380-4ee86f6ccf5a",
    "papermill": {
     "duration": 0.082444,
     "end_time": "2021-10-24T11:53:10.849818",
     "exception": false,
     "start_time": "2021-10-24T11:53:10.767374",
     "status": "completed"
    },
    "tags": []
   },
   "outputs": [
    {
     "data": {
      "text/html": [
       "<div>\n",
       "<style scoped>\n",
       "    .dataframe tbody tr th:only-of-type {\n",
       "        vertical-align: middle;\n",
       "    }\n",
       "\n",
       "    .dataframe tbody tr th {\n",
       "        vertical-align: top;\n",
       "    }\n",
       "\n",
       "    .dataframe thead th {\n",
       "        text-align: right;\n",
       "    }\n",
       "</style>\n",
       "<table border=\"1\" class=\"dataframe\">\n",
       "  <thead>\n",
       "    <tr style=\"text-align: right;\">\n",
       "      <th></th>\n",
       "      <th>ph</th>\n",
       "      <th>Hardness</th>\n",
       "      <th>Solids</th>\n",
       "      <th>Chloramines</th>\n",
       "      <th>Sulfate</th>\n",
       "      <th>Conductivity</th>\n",
       "      <th>Organic_carbon</th>\n",
       "      <th>Trihalomethanes</th>\n",
       "      <th>Turbidity</th>\n",
       "      <th>Potability</th>\n",
       "    </tr>\n",
       "  </thead>\n",
       "  <tbody>\n",
       "    <tr>\n",
       "      <th>3271</th>\n",
       "      <td>4.668102</td>\n",
       "      <td>193.681735</td>\n",
       "      <td>47580.991603</td>\n",
       "      <td>7.166639</td>\n",
       "      <td>359.948574</td>\n",
       "      <td>526.424171</td>\n",
       "      <td>13.894419</td>\n",
       "      <td>66.687695</td>\n",
       "      <td>4.435821</td>\n",
       "      <td>1</td>\n",
       "    </tr>\n",
       "    <tr>\n",
       "      <th>3272</th>\n",
       "      <td>7.808856</td>\n",
       "      <td>193.553212</td>\n",
       "      <td>17329.802160</td>\n",
       "      <td>8.061362</td>\n",
       "      <td>NaN</td>\n",
       "      <td>392.449580</td>\n",
       "      <td>19.903225</td>\n",
       "      <td>NaN</td>\n",
       "      <td>2.798243</td>\n",
       "      <td>1</td>\n",
       "    </tr>\n",
       "    <tr>\n",
       "      <th>3273</th>\n",
       "      <td>9.419510</td>\n",
       "      <td>175.762646</td>\n",
       "      <td>33155.578218</td>\n",
       "      <td>7.350233</td>\n",
       "      <td>NaN</td>\n",
       "      <td>432.044783</td>\n",
       "      <td>11.039070</td>\n",
       "      <td>69.845400</td>\n",
       "      <td>3.298875</td>\n",
       "      <td>1</td>\n",
       "    </tr>\n",
       "    <tr>\n",
       "      <th>3274</th>\n",
       "      <td>5.126763</td>\n",
       "      <td>230.603758</td>\n",
       "      <td>11983.869376</td>\n",
       "      <td>6.303357</td>\n",
       "      <td>NaN</td>\n",
       "      <td>402.883113</td>\n",
       "      <td>11.168946</td>\n",
       "      <td>77.488213</td>\n",
       "      <td>4.708658</td>\n",
       "      <td>1</td>\n",
       "    </tr>\n",
       "    <tr>\n",
       "      <th>3275</th>\n",
       "      <td>7.874671</td>\n",
       "      <td>195.102299</td>\n",
       "      <td>17404.177061</td>\n",
       "      <td>7.509306</td>\n",
       "      <td>NaN</td>\n",
       "      <td>327.459760</td>\n",
       "      <td>16.140368</td>\n",
       "      <td>78.698446</td>\n",
       "      <td>2.309149</td>\n",
       "      <td>1</td>\n",
       "    </tr>\n",
       "  </tbody>\n",
       "</table>\n",
       "</div>"
      ],
      "text/plain": [
       "            ph    Hardness        Solids  Chloramines     Sulfate  \\\n",
       "3271  4.668102  193.681735  47580.991603     7.166639  359.948574   \n",
       "3272  7.808856  193.553212  17329.802160     8.061362         NaN   \n",
       "3273  9.419510  175.762646  33155.578218     7.350233         NaN   \n",
       "3274  5.126763  230.603758  11983.869376     6.303357         NaN   \n",
       "3275  7.874671  195.102299  17404.177061     7.509306         NaN   \n",
       "\n",
       "      Conductivity  Organic_carbon  Trihalomethanes  Turbidity  Potability  \n",
       "3271    526.424171       13.894419        66.687695   4.435821           1  \n",
       "3272    392.449580       19.903225              NaN   2.798243           1  \n",
       "3273    432.044783       11.039070        69.845400   3.298875           1  \n",
       "3274    402.883113       11.168946        77.488213   4.708658           1  \n",
       "3275    327.459760       16.140368        78.698446   2.309149           1  "
      ]
     },
     "execution_count": 4,
     "metadata": {},
     "output_type": "execute_result"
    }
   ],
   "source": [
    "df.tail()"
   ]
  },
  {
   "cell_type": "code",
   "execution_count": 5,
   "id": "b7ef9485",
   "metadata": {
    "execution": {
     "iopub.execute_input": "2021-10-24T11:53:10.964610Z",
     "iopub.status.busy": "2021-10-24T11:53:10.963863Z",
     "iopub.status.idle": "2021-10-24T11:53:11.012401Z",
     "shell.execute_reply": "2021-10-24T11:53:11.011648Z",
     "shell.execute_reply.started": "2021-10-24T11:50:45.267004Z"
    },
    "id": "JkhPE1ExEPnu",
    "outputId": "c0b2884b-8611-4b4c-e8d8-6ad024a57fe3",
    "papermill": {
     "duration": 0.107613,
     "end_time": "2021-10-24T11:53:11.012554",
     "exception": false,
     "start_time": "2021-10-24T11:53:10.904941",
     "status": "completed"
    },
    "tags": []
   },
   "outputs": [
    {
     "data": {
      "text/html": [
       "<div>\n",
       "<style scoped>\n",
       "    .dataframe tbody tr th:only-of-type {\n",
       "        vertical-align: middle;\n",
       "    }\n",
       "\n",
       "    .dataframe tbody tr th {\n",
       "        vertical-align: top;\n",
       "    }\n",
       "\n",
       "    .dataframe thead th {\n",
       "        text-align: right;\n",
       "    }\n",
       "</style>\n",
       "<table border=\"1\" class=\"dataframe\">\n",
       "  <thead>\n",
       "    <tr style=\"text-align: right;\">\n",
       "      <th></th>\n",
       "      <th>ph</th>\n",
       "      <th>Hardness</th>\n",
       "      <th>Solids</th>\n",
       "      <th>Chloramines</th>\n",
       "      <th>Sulfate</th>\n",
       "      <th>Conductivity</th>\n",
       "      <th>Organic_carbon</th>\n",
       "      <th>Trihalomethanes</th>\n",
       "      <th>Turbidity</th>\n",
       "      <th>Potability</th>\n",
       "    </tr>\n",
       "  </thead>\n",
       "  <tbody>\n",
       "    <tr>\n",
       "      <th>count</th>\n",
       "      <td>2785.000000</td>\n",
       "      <td>3276.000000</td>\n",
       "      <td>3276.000000</td>\n",
       "      <td>3276.000000</td>\n",
       "      <td>2495.000000</td>\n",
       "      <td>3276.000000</td>\n",
       "      <td>3276.000000</td>\n",
       "      <td>3114.000000</td>\n",
       "      <td>3276.000000</td>\n",
       "      <td>3276.000000</td>\n",
       "    </tr>\n",
       "    <tr>\n",
       "      <th>mean</th>\n",
       "      <td>7.080795</td>\n",
       "      <td>196.369496</td>\n",
       "      <td>22014.092526</td>\n",
       "      <td>7.122277</td>\n",
       "      <td>333.775777</td>\n",
       "      <td>426.205111</td>\n",
       "      <td>14.284970</td>\n",
       "      <td>66.396293</td>\n",
       "      <td>3.966786</td>\n",
       "      <td>0.390110</td>\n",
       "    </tr>\n",
       "    <tr>\n",
       "      <th>std</th>\n",
       "      <td>1.594320</td>\n",
       "      <td>32.879761</td>\n",
       "      <td>8768.570828</td>\n",
       "      <td>1.583085</td>\n",
       "      <td>41.416840</td>\n",
       "      <td>80.824064</td>\n",
       "      <td>3.308162</td>\n",
       "      <td>16.175008</td>\n",
       "      <td>0.780382</td>\n",
       "      <td>0.487849</td>\n",
       "    </tr>\n",
       "    <tr>\n",
       "      <th>min</th>\n",
       "      <td>0.000000</td>\n",
       "      <td>47.432000</td>\n",
       "      <td>320.942611</td>\n",
       "      <td>0.352000</td>\n",
       "      <td>129.000000</td>\n",
       "      <td>181.483754</td>\n",
       "      <td>2.200000</td>\n",
       "      <td>0.738000</td>\n",
       "      <td>1.450000</td>\n",
       "      <td>0.000000</td>\n",
       "    </tr>\n",
       "    <tr>\n",
       "      <th>25%</th>\n",
       "      <td>6.093092</td>\n",
       "      <td>176.850538</td>\n",
       "      <td>15666.690297</td>\n",
       "      <td>6.127421</td>\n",
       "      <td>307.699498</td>\n",
       "      <td>365.734414</td>\n",
       "      <td>12.065801</td>\n",
       "      <td>55.844536</td>\n",
       "      <td>3.439711</td>\n",
       "      <td>0.000000</td>\n",
       "    </tr>\n",
       "    <tr>\n",
       "      <th>50%</th>\n",
       "      <td>7.036752</td>\n",
       "      <td>196.967627</td>\n",
       "      <td>20927.833607</td>\n",
       "      <td>7.130299</td>\n",
       "      <td>333.073546</td>\n",
       "      <td>421.884968</td>\n",
       "      <td>14.218338</td>\n",
       "      <td>66.622485</td>\n",
       "      <td>3.955028</td>\n",
       "      <td>0.000000</td>\n",
       "    </tr>\n",
       "    <tr>\n",
       "      <th>75%</th>\n",
       "      <td>8.062066</td>\n",
       "      <td>216.667456</td>\n",
       "      <td>27332.762127</td>\n",
       "      <td>8.114887</td>\n",
       "      <td>359.950170</td>\n",
       "      <td>481.792304</td>\n",
       "      <td>16.557652</td>\n",
       "      <td>77.337473</td>\n",
       "      <td>4.500320</td>\n",
       "      <td>1.000000</td>\n",
       "    </tr>\n",
       "    <tr>\n",
       "      <th>max</th>\n",
       "      <td>14.000000</td>\n",
       "      <td>323.124000</td>\n",
       "      <td>61227.196008</td>\n",
       "      <td>13.127000</td>\n",
       "      <td>481.030642</td>\n",
       "      <td>753.342620</td>\n",
       "      <td>28.300000</td>\n",
       "      <td>124.000000</td>\n",
       "      <td>6.739000</td>\n",
       "      <td>1.000000</td>\n",
       "    </tr>\n",
       "  </tbody>\n",
       "</table>\n",
       "</div>"
      ],
      "text/plain": [
       "                ph     Hardness        Solids  Chloramines      Sulfate  \\\n",
       "count  2785.000000  3276.000000   3276.000000  3276.000000  2495.000000   \n",
       "mean      7.080795   196.369496  22014.092526     7.122277   333.775777   \n",
       "std       1.594320    32.879761   8768.570828     1.583085    41.416840   \n",
       "min       0.000000    47.432000    320.942611     0.352000   129.000000   \n",
       "25%       6.093092   176.850538  15666.690297     6.127421   307.699498   \n",
       "50%       7.036752   196.967627  20927.833607     7.130299   333.073546   \n",
       "75%       8.062066   216.667456  27332.762127     8.114887   359.950170   \n",
       "max      14.000000   323.124000  61227.196008    13.127000   481.030642   \n",
       "\n",
       "       Conductivity  Organic_carbon  Trihalomethanes    Turbidity   Potability  \n",
       "count   3276.000000     3276.000000      3114.000000  3276.000000  3276.000000  \n",
       "mean     426.205111       14.284970        66.396293     3.966786     0.390110  \n",
       "std       80.824064        3.308162        16.175008     0.780382     0.487849  \n",
       "min      181.483754        2.200000         0.738000     1.450000     0.000000  \n",
       "25%      365.734414       12.065801        55.844536     3.439711     0.000000  \n",
       "50%      421.884968       14.218338        66.622485     3.955028     0.000000  \n",
       "75%      481.792304       16.557652        77.337473     4.500320     1.000000  \n",
       "max      753.342620       28.300000       124.000000     6.739000     1.000000  "
      ]
     },
     "execution_count": 5,
     "metadata": {},
     "output_type": "execute_result"
    }
   ],
   "source": [
    "df.describe()"
   ]
  },
  {
   "cell_type": "code",
   "execution_count": 6,
   "id": "a8eaeed6",
   "metadata": {
    "execution": {
     "iopub.execute_input": "2021-10-24T11:53:11.136644Z",
     "iopub.status.busy": "2021-10-24T11:53:11.135862Z",
     "iopub.status.idle": "2021-10-24T11:53:11.159606Z",
     "shell.execute_reply": "2021-10-24T11:53:11.160150Z",
     "shell.execute_reply.started": "2021-10-24T11:50:45.319185Z"
    },
    "id": "CinE1kyZEhHa",
    "outputId": "5cdb0c45-2461-47ce-83ab-18e70d404dd4",
    "papermill": {
     "duration": 0.088148,
     "end_time": "2021-10-24T11:53:11.160346",
     "exception": false,
     "start_time": "2021-10-24T11:53:11.072198",
     "status": "completed"
    },
    "tags": []
   },
   "outputs": [
    {
     "data": {
      "text/html": [
       "<div>\n",
       "<style scoped>\n",
       "    .dataframe tbody tr th:only-of-type {\n",
       "        vertical-align: middle;\n",
       "    }\n",
       "\n",
       "    .dataframe tbody tr th {\n",
       "        vertical-align: top;\n",
       "    }\n",
       "\n",
       "    .dataframe thead th {\n",
       "        text-align: right;\n",
       "    }\n",
       "</style>\n",
       "<table border=\"1\" class=\"dataframe\">\n",
       "  <thead>\n",
       "    <tr style=\"text-align: right;\">\n",
       "      <th></th>\n",
       "      <th>ph</th>\n",
       "      <th>Hardness</th>\n",
       "      <th>Solids</th>\n",
       "      <th>Chloramines</th>\n",
       "      <th>Sulfate</th>\n",
       "      <th>Conductivity</th>\n",
       "      <th>Organic_carbon</th>\n",
       "      <th>Trihalomethanes</th>\n",
       "      <th>Turbidity</th>\n",
       "      <th>Potability</th>\n",
       "    </tr>\n",
       "  </thead>\n",
       "  <tbody>\n",
       "    <tr>\n",
       "      <th>ph</th>\n",
       "      <td>1.000000</td>\n",
       "      <td>0.082096</td>\n",
       "      <td>-0.089288</td>\n",
       "      <td>-0.034350</td>\n",
       "      <td>0.018203</td>\n",
       "      <td>0.018614</td>\n",
       "      <td>0.043503</td>\n",
       "      <td>0.003354</td>\n",
       "      <td>-0.039057</td>\n",
       "      <td>-0.003556</td>\n",
       "    </tr>\n",
       "    <tr>\n",
       "      <th>Hardness</th>\n",
       "      <td>0.082096</td>\n",
       "      <td>1.000000</td>\n",
       "      <td>-0.046899</td>\n",
       "      <td>-0.030054</td>\n",
       "      <td>-0.106923</td>\n",
       "      <td>-0.023915</td>\n",
       "      <td>0.003610</td>\n",
       "      <td>-0.013013</td>\n",
       "      <td>-0.014449</td>\n",
       "      <td>-0.013837</td>\n",
       "    </tr>\n",
       "    <tr>\n",
       "      <th>Solids</th>\n",
       "      <td>-0.089288</td>\n",
       "      <td>-0.046899</td>\n",
       "      <td>1.000000</td>\n",
       "      <td>-0.070148</td>\n",
       "      <td>-0.171804</td>\n",
       "      <td>0.013831</td>\n",
       "      <td>0.010242</td>\n",
       "      <td>-0.009143</td>\n",
       "      <td>0.019546</td>\n",
       "      <td>0.033743</td>\n",
       "    </tr>\n",
       "    <tr>\n",
       "      <th>Chloramines</th>\n",
       "      <td>-0.034350</td>\n",
       "      <td>-0.030054</td>\n",
       "      <td>-0.070148</td>\n",
       "      <td>1.000000</td>\n",
       "      <td>0.027244</td>\n",
       "      <td>-0.020486</td>\n",
       "      <td>-0.012653</td>\n",
       "      <td>0.017084</td>\n",
       "      <td>0.002363</td>\n",
       "      <td>0.023779</td>\n",
       "    </tr>\n",
       "    <tr>\n",
       "      <th>Sulfate</th>\n",
       "      <td>0.018203</td>\n",
       "      <td>-0.106923</td>\n",
       "      <td>-0.171804</td>\n",
       "      <td>0.027244</td>\n",
       "      <td>1.000000</td>\n",
       "      <td>-0.016121</td>\n",
       "      <td>0.030831</td>\n",
       "      <td>-0.030274</td>\n",
       "      <td>-0.011187</td>\n",
       "      <td>-0.023577</td>\n",
       "    </tr>\n",
       "    <tr>\n",
       "      <th>Conductivity</th>\n",
       "      <td>0.018614</td>\n",
       "      <td>-0.023915</td>\n",
       "      <td>0.013831</td>\n",
       "      <td>-0.020486</td>\n",
       "      <td>-0.016121</td>\n",
       "      <td>1.000000</td>\n",
       "      <td>0.020966</td>\n",
       "      <td>0.001285</td>\n",
       "      <td>0.005798</td>\n",
       "      <td>-0.008128</td>\n",
       "    </tr>\n",
       "    <tr>\n",
       "      <th>Organic_carbon</th>\n",
       "      <td>0.043503</td>\n",
       "      <td>0.003610</td>\n",
       "      <td>0.010242</td>\n",
       "      <td>-0.012653</td>\n",
       "      <td>0.030831</td>\n",
       "      <td>0.020966</td>\n",
       "      <td>1.000000</td>\n",
       "      <td>-0.013274</td>\n",
       "      <td>-0.027308</td>\n",
       "      <td>-0.030001</td>\n",
       "    </tr>\n",
       "    <tr>\n",
       "      <th>Trihalomethanes</th>\n",
       "      <td>0.003354</td>\n",
       "      <td>-0.013013</td>\n",
       "      <td>-0.009143</td>\n",
       "      <td>0.017084</td>\n",
       "      <td>-0.030274</td>\n",
       "      <td>0.001285</td>\n",
       "      <td>-0.013274</td>\n",
       "      <td>1.000000</td>\n",
       "      <td>-0.022145</td>\n",
       "      <td>0.007130</td>\n",
       "    </tr>\n",
       "    <tr>\n",
       "      <th>Turbidity</th>\n",
       "      <td>-0.039057</td>\n",
       "      <td>-0.014449</td>\n",
       "      <td>0.019546</td>\n",
       "      <td>0.002363</td>\n",
       "      <td>-0.011187</td>\n",
       "      <td>0.005798</td>\n",
       "      <td>-0.027308</td>\n",
       "      <td>-0.022145</td>\n",
       "      <td>1.000000</td>\n",
       "      <td>0.001581</td>\n",
       "    </tr>\n",
       "    <tr>\n",
       "      <th>Potability</th>\n",
       "      <td>-0.003556</td>\n",
       "      <td>-0.013837</td>\n",
       "      <td>0.033743</td>\n",
       "      <td>0.023779</td>\n",
       "      <td>-0.023577</td>\n",
       "      <td>-0.008128</td>\n",
       "      <td>-0.030001</td>\n",
       "      <td>0.007130</td>\n",
       "      <td>0.001581</td>\n",
       "      <td>1.000000</td>\n",
       "    </tr>\n",
       "  </tbody>\n",
       "</table>\n",
       "</div>"
      ],
      "text/plain": [
       "                       ph  Hardness    Solids  Chloramines   Sulfate  \\\n",
       "ph               1.000000  0.082096 -0.089288    -0.034350  0.018203   \n",
       "Hardness         0.082096  1.000000 -0.046899    -0.030054 -0.106923   \n",
       "Solids          -0.089288 -0.046899  1.000000    -0.070148 -0.171804   \n",
       "Chloramines     -0.034350 -0.030054 -0.070148     1.000000  0.027244   \n",
       "Sulfate          0.018203 -0.106923 -0.171804     0.027244  1.000000   \n",
       "Conductivity     0.018614 -0.023915  0.013831    -0.020486 -0.016121   \n",
       "Organic_carbon   0.043503  0.003610  0.010242    -0.012653  0.030831   \n",
       "Trihalomethanes  0.003354 -0.013013 -0.009143     0.017084 -0.030274   \n",
       "Turbidity       -0.039057 -0.014449  0.019546     0.002363 -0.011187   \n",
       "Potability      -0.003556 -0.013837  0.033743     0.023779 -0.023577   \n",
       "\n",
       "                 Conductivity  Organic_carbon  Trihalomethanes  Turbidity  \\\n",
       "ph                   0.018614        0.043503         0.003354  -0.039057   \n",
       "Hardness            -0.023915        0.003610        -0.013013  -0.014449   \n",
       "Solids               0.013831        0.010242        -0.009143   0.019546   \n",
       "Chloramines         -0.020486       -0.012653         0.017084   0.002363   \n",
       "Sulfate             -0.016121        0.030831        -0.030274  -0.011187   \n",
       "Conductivity         1.000000        0.020966         0.001285   0.005798   \n",
       "Organic_carbon       0.020966        1.000000        -0.013274  -0.027308   \n",
       "Trihalomethanes      0.001285       -0.013274         1.000000  -0.022145   \n",
       "Turbidity            0.005798       -0.027308        -0.022145   1.000000   \n",
       "Potability          -0.008128       -0.030001         0.007130   0.001581   \n",
       "\n",
       "                 Potability  \n",
       "ph                -0.003556  \n",
       "Hardness          -0.013837  \n",
       "Solids             0.033743  \n",
       "Chloramines        0.023779  \n",
       "Sulfate           -0.023577  \n",
       "Conductivity      -0.008128  \n",
       "Organic_carbon    -0.030001  \n",
       "Trihalomethanes    0.007130  \n",
       "Turbidity          0.001581  \n",
       "Potability         1.000000  "
      ]
     },
     "execution_count": 6,
     "metadata": {},
     "output_type": "execute_result"
    }
   ],
   "source": [
    "df.corr()"
   ]
  },
  {
   "cell_type": "code",
   "execution_count": 7,
   "id": "c4b466b8",
   "metadata": {
    "execution": {
     "iopub.execute_input": "2021-10-24T11:53:11.277907Z",
     "iopub.status.busy": "2021-10-24T11:53:11.276063Z",
     "iopub.status.idle": "2021-10-24T11:53:12.882327Z",
     "shell.execute_reply": "2021-10-24T11:53:12.881820Z",
     "shell.execute_reply.started": "2021-10-24T11:50:45.348778Z"
    },
    "id": "eqZN2lOXwAYL",
    "outputId": "54a5d9fd-6bcf-41e7-e91e-f36ed1a23a59",
    "papermill": {
     "duration": 1.664308,
     "end_time": "2021-10-24T11:53:12.882479",
     "exception": false,
     "start_time": "2021-10-24T11:53:11.218171",
     "status": "completed"
    },
    "tags": []
   },
   "outputs": [
    {
     "data": {
      "image/png": "[encoded data removed]",
      "text/plain": [
       "<Figure size 864x576 with 12 Axes>"
      ]
     },
     "metadata": {
      "needs_background": "light"
     },
     "output_type": "display_data"
    }
   ],
   "source": [
    "df.hist(figsize=(12,8));"
   ]
  },
  {
   "cell_type": "markdown",
   "id": "7ce7f525",
   "metadata": {
    "id": "OfJExXhd_fMm",
    "papermill": {
     "duration": 0.057496,
     "end_time": "2021-10-24T11:53:12.998423",
     "exception": false,
     "start_time": "2021-10-24T11:53:12.940927",
     "status": "completed"
    },
    "tags": []
   },
   "source": [
    "# **Missing Values Analysis**"
   ]
  },
  {
   "cell_type": "code",
   "execution_count": 8,
   "id": "e4d98524",
   "metadata": {
    "execution": {
     "iopub.execute_input": "2021-10-24T11:53:13.115514Z",
     "iopub.status.busy": "2021-10-24T11:53:13.114865Z",
     "iopub.status.idle": "2021-10-24T11:53:13.145571Z",
     "shell.execute_reply": "2021-10-24T11:53:13.146188Z",
     "shell.execute_reply.started": "2021-10-24T11:50:47.724655Z"
    },
    "id": "Byo9qnZZaCmq",
    "outputId": "c325424f-cf69-4e23-cee4-5baf5e8d29ec",
    "papermill": {
     "duration": 0.0909,
     "end_time": "2021-10-24T11:53:13.146372",
     "exception": false,
     "start_time": "2021-10-24T11:53:13.055472",
     "status": "completed"
    },
    "tags": []
   },
   "outputs": [
    {
     "data": {
      "text/html": [
       "<div>\n",
       "<style scoped>\n",
       "    .dataframe tbody tr th:only-of-type {\n",
       "        vertical-align: middle;\n",
       "    }\n",
       "\n",
       "    .dataframe tbody tr th {\n",
       "        vertical-align: top;\n",
       "    }\n",
       "\n",
       "    .dataframe thead th {\n",
       "        text-align: right;\n",
       "    }\n",
       "</style>\n",
       "<table border=\"1\" class=\"dataframe\">\n",
       "  <thead>\n",
       "    <tr style=\"text-align: right;\">\n",
       "      <th></th>\n",
       "      <th>missing</th>\n",
       "      <th>% of missing</th>\n",
       "    </tr>\n",
       "  </thead>\n",
       "  <tbody>\n",
       "    <tr>\n",
       "      <th>ph</th>\n",
       "      <td>491</td>\n",
       "      <td>14.99</td>\n",
       "    </tr>\n",
       "    <tr>\n",
       "      <th>Hardness</th>\n",
       "      <td>0</td>\n",
       "      <td>0.00</td>\n",
       "    </tr>\n",
       "    <tr>\n",
       "      <th>Solids</th>\n",
       "      <td>0</td>\n",
       "      <td>0.00</td>\n",
       "    </tr>\n",
       "    <tr>\n",
       "      <th>Chloramines</th>\n",
       "      <td>0</td>\n",
       "      <td>0.00</td>\n",
       "    </tr>\n",
       "    <tr>\n",
       "      <th>Sulfate</th>\n",
       "      <td>781</td>\n",
       "      <td>23.84</td>\n",
       "    </tr>\n",
       "    <tr>\n",
       "      <th>Conductivity</th>\n",
       "      <td>0</td>\n",
       "      <td>0.00</td>\n",
       "    </tr>\n",
       "    <tr>\n",
       "      <th>Organic_carbon</th>\n",
       "      <td>0</td>\n",
       "      <td>0.00</td>\n",
       "    </tr>\n",
       "    <tr>\n",
       "      <th>Trihalomethanes</th>\n",
       "      <td>162</td>\n",
       "      <td>4.95</td>\n",
       "    </tr>\n",
       "    <tr>\n",
       "      <th>Turbidity</th>\n",
       "      <td>0</td>\n",
       "      <td>0.00</td>\n",
       "    </tr>\n",
       "    <tr>\n",
       "      <th>Potability</th>\n",
       "      <td>0</td>\n",
       "      <td>0.00</td>\n",
       "    </tr>\n",
       "  </tbody>\n",
       "</table>\n",
       "</div>"
      ],
      "text/plain": [
       "                 missing   % of missing\n",
       "ph                   491          14.99\n",
       "Hardness               0           0.00\n",
       "Solids                 0           0.00\n",
       "Chloramines            0           0.00\n",
       "Sulfate              781          23.84\n",
       "Conductivity           0           0.00\n",
       "Organic_carbon         0           0.00\n",
       "Trihalomethanes      162           4.95\n",
       "Turbidity              0           0.00\n",
       "Potability             0           0.00"
      ]
     },
     "execution_count": 8,
     "metadata": {},
     "output_type": "execute_result"
    }
   ],
   "source": [
    "missing={\"missing\":df.isnull().sum(),\" % of missing\":round(((df.isnull().sum()/df.shape[0])*100),2)}\n",
    "pd.DataFrame(missing)"
   ]
  },
  {
   "cell_type": "code",
   "execution_count": 9,
   "id": "06d16362",
   "metadata": {
    "execution": {
     "iopub.execute_input": "2021-10-24T11:53:13.263329Z",
     "iopub.status.busy": "2021-10-24T11:53:13.262699Z",
     "iopub.status.idle": "2021-10-24T11:53:13.293447Z",
     "shell.execute_reply": "2021-10-24T11:53:13.292745Z",
     "shell.execute_reply.started": "2021-10-24T11:50:47.753695Z"
    },
    "id": "lQk6WbhK_1hO",
    "papermill": {
     "duration": 0.090409,
     "end_time": "2021-10-24T11:53:13.293591",
     "exception": false,
     "start_time": "2021-10-24T11:53:13.203182",
     "status": "completed"
    },
    "tags": []
   },
   "outputs": [],
   "source": [
    "pH_nan_1 = df.query('Potability == 1')['ph'][df['ph'].isna()].index\n",
    "\n",
    "df.loc[pH_nan_1,'ph'] =df.query('Potability == 1')['ph'][df['ph'].notna()].mean()\n",
    "\n",
    "pH_nan_0 = df.query('Potability == 0')['ph'][df['ph'].isna()].index\n",
    "df.loc[pH_nan_0,'ph'] = df.query('Potability == 0')['ph'][df['ph'].notna()].mean()"
   ]
  },
  {
   "cell_type": "code",
   "execution_count": 10,
   "id": "11e60666",
   "metadata": {
    "execution": {
     "iopub.execute_input": "2021-10-24T11:53:13.411076Z",
     "iopub.status.busy": "2021-10-24T11:53:13.410397Z",
     "iopub.status.idle": "2021-10-24T11:53:13.436330Z",
     "shell.execute_reply": "2021-10-24T11:53:13.435742Z",
     "shell.execute_reply.started": "2021-10-24T11:50:47.786309Z"
    },
    "id": "h8-iuSdb_7h-",
    "papermill": {
     "duration": 0.086076,
     "end_time": "2021-10-24T11:53:13.436488",
     "exception": false,
     "start_time": "2021-10-24T11:53:13.350412",
     "status": "completed"
    },
    "tags": []
   },
   "outputs": [],
   "source": [
    "Sulfate_nan_1 = df.query('Potability == 1')['Sulfate'][df['Sulfate'].isna()].index\n",
    "df.loc[Sulfate_nan_1,'Sulfate'] =df.query('Potability == 1')['Sulfate'][df['Sulfate'].notna()].mean()\n",
    "\n",
    "Sulfate_nan_0 = df.query('Potability == 0')['Sulfate'][df['Sulfate'].isna()].index\n",
    "df.loc[Sulfate_nan_0,'Sulfate'] = df.query('Potability == 0')['Sulfate'][df['Sulfate'].notna()].mean()"
   ]
  },
  {
   "cell_type": "code",
   "execution_count": 11,
   "id": "ba5faf36",
   "metadata": {
    "execution": {
     "iopub.execute_input": "2021-10-24T11:53:13.556959Z",
     "iopub.status.busy": "2021-10-24T11:53:13.555562Z",
     "iopub.status.idle": "2021-10-24T11:53:13.559592Z",
     "shell.execute_reply": "2021-10-24T11:53:13.560041Z",
     "shell.execute_reply.started": "2021-10-24T11:50:47.817531Z"
    },
    "id": "IQWUYS_8CMwV",
    "papermill": {
     "duration": 0.067121,
     "end_time": "2021-10-24T11:53:13.560215",
     "exception": false,
     "start_time": "2021-10-24T11:53:13.493094",
     "status": "completed"
    },
    "tags": []
   },
   "outputs": [],
   "source": [
    "df=df.dropna(subset=[\"Trihalomethanes\"])"
   ]
  },
  {
   "cell_type": "code",
   "execution_count": 12,
   "id": "d9ddff15",
   "metadata": {
    "execution": {
     "iopub.execute_input": "2021-10-24T11:53:13.676307Z",
     "iopub.status.busy": "2021-10-24T11:53:13.675684Z",
     "iopub.status.idle": "2021-10-24T11:53:13.684209Z",
     "shell.execute_reply": "2021-10-24T11:53:13.683569Z",
     "shell.execute_reply.started": "2021-10-24T11:50:47.828195Z"
    },
    "id": "rLrZDMciZ0j9",
    "outputId": "1c1a00de-20c6-465f-a73b-7bf9d30d34a1",
    "papermill": {
     "duration": 0.0677,
     "end_time": "2021-10-24T11:53:13.684357",
     "exception": false,
     "start_time": "2021-10-24T11:53:13.616657",
     "status": "completed"
    },
    "tags": []
   },
   "outputs": [
    {
     "data": {
      "text/plain": [
       "ph                 0\n",
       "Hardness           0\n",
       "Solids             0\n",
       "Chloramines        0\n",
       "Sulfate            0\n",
       "Conductivity       0\n",
       "Organic_carbon     0\n",
       "Trihalomethanes    0\n",
       "Turbidity          0\n",
       "Potability         0\n",
       "dtype: int64"
      ]
     },
     "execution_count": 12,
     "metadata": {},
     "output_type": "execute_result"
    }
   ],
   "source": [
    "df.isnull().sum()"
   ]
  },
  {
   "cell_type": "code",
   "execution_count": 13,
   "id": "3b4a6f89",
   "metadata": {
    "execution": {
     "iopub.execute_input": "2021-10-24T11:53:13.805398Z",
     "iopub.status.busy": "2021-10-24T11:53:13.804671Z",
     "iopub.status.idle": "2021-10-24T11:53:13.810025Z",
     "shell.execute_reply": "2021-10-24T11:53:13.810519Z",
     "shell.execute_reply.started": "2021-10-24T11:50:47.847241Z"
    },
    "id": "lnQJtltAdnnu",
    "outputId": "9a56ccee-245f-40eb-9fd9-e0f4b31a5d06",
    "papermill": {
     "duration": 0.068719,
     "end_time": "2021-10-24T11:53:13.810688",
     "exception": false,
     "start_time": "2021-10-24T11:53:13.741969",
     "status": "completed"
    },
    "tags": []
   },
   "outputs": [
    {
     "data": {
      "text/plain": [
       "0    1891\n",
       "1    1223\n",
       "Name: Potability, dtype: int64"
      ]
     },
     "execution_count": 13,
     "metadata": {},
     "output_type": "execute_result"
    }
   ],
   "source": [
    "Potability=df[\"Potability\"].value_counts()\n",
    "Potability"
   ]
  },
  {
   "cell_type": "code",
   "execution_count": 14,
   "id": "6ec95e4f",
   "metadata": {
    "execution": {
     "iopub.execute_input": "2021-10-24T11:53:13.949450Z",
     "iopub.status.busy": "2021-10-24T11:53:13.948395Z",
     "iopub.status.idle": "2021-10-24T11:53:14.016373Z",
     "shell.execute_reply": "2021-10-24T11:53:14.016856Z",
     "shell.execute_reply.started": "2021-10-24T11:50:47.863724Z"
    },
    "id": "9vd7WTR-c227",
    "outputId": "69cffe7c-1b6a-49b0-c7b8-f2be5dcbff7b",
    "papermill": {
     "duration": 0.148709,
     "end_time": "2021-10-24T11:53:14.017065",
     "exception": false,
     "start_time": "2021-10-24T11:53:13.868356",
     "status": "completed"
    },
    "tags": []
   },
   "outputs": [
    {
     "data": {
      "image/png": "[encoded data removed]",
      "text/plain": [
       "<Figure size 432x288 with 1 Axes>"
      ]
     },
     "metadata": {},
     "output_type": "display_data"
    }
   ],
   "source": [
    "plt.pie(Potability,labels=[\"Non-potable\",\"potable\"],startangle=90,explode=[0.3,0])\n",
    "plt.show()"
   ]
  },
  {
   "cell_type": "code",
   "execution_count": 15,
   "id": "f9ccbd9c",
   "metadata": {
    "execution": {
     "iopub.execute_input": "2021-10-24T11:53:14.140601Z",
     "iopub.status.busy": "2021-10-24T11:53:14.139963Z",
     "iopub.status.idle": "2021-10-24T11:53:14.883934Z",
     "shell.execute_reply": "2021-10-24T11:53:14.883141Z",
     "shell.execute_reply.started": "2021-10-24T11:50:47.961289Z"
    },
    "id": "p19-cb4KAykD",
    "outputId": "a87b0d00-1922-4940-e043-c2c8e8e402a6",
    "papermill": {
     "duration": 0.80938,
     "end_time": "2021-10-24T11:53:14.884082",
     "exception": false,
     "start_time": "2021-10-24T11:53:14.074702",
     "status": "completed"
    },
    "tags": []
   },
   "outputs": [
    {
     "data": {
      "image/png": "[encoded data removed]",
      "text/plain": [
       "<Figure size 864x576 with 2 Axes>"
      ]
     },
     "metadata": {
      "needs_background": "light"
     },
     "output_type": "display_data"
    }
   ],
   "source": [
    "# Feature correlation heat map\n",
    "# Get Pearson correlation values\n",
    "data = df.corr()    # Pairwise correlation with a null value is ignored\n",
    "# Generate heat map using seaborn\n",
    "fig, ax = plt.subplots(figsize=(12,8))                          # Create grid of empty subplots using matplotlib library                      \n",
    "mask = np.triu(np.ones_like(data, dtype=bool))                   # Mask correlation matrix along its line of symmetry to remove redencency and correlation of a feature with itself\n",
    "sns.heatmap(data, cmap='seismic', annot=True, mask=mask, ax=ax, vmin=-0.2, vmax=0.2)    # Create heat map useing seaborn library\n",
    "fig.text(0.5, 1.05, 'Correlation Heat Map', horizontalalignment='center', verticalalignment='center', fontsize=14, fontweight='bold', transform=ax.transAxes)   # Add title\n",
    "sns.set_style('white')        # Remove tick marks"
   ]
  },
  {
   "cell_type": "code",
   "execution_count": 16,
   "id": "8b6d4c9a",
   "metadata": {
    "execution": {
     "iopub.execute_input": "2021-10-24T11:53:15.007070Z",
     "iopub.status.busy": "2021-10-24T11:53:15.006033Z",
     "iopub.status.idle": "2021-10-24T11:53:16.445018Z",
     "shell.execute_reply": "2021-10-24T11:53:16.445581Z",
     "shell.execute_reply.started": "2021-10-24T11:50:48.781986Z"
    },
    "id": "oyt9xwU_Gzvu",
    "outputId": "b8ede755-a6ee-47cb-ecc2-40f46fe9e96e",
    "papermill": {
     "duration": 1.502163,
     "end_time": "2021-10-24T11:53:16.445761",
     "exception": false,
     "start_time": "2021-10-24T11:53:14.943598",
     "status": "completed"
    },
    "tags": []
   },
   "outputs": [
    {
     "data": {
      "image/png": "[encoded data removed]",
      "text/plain": [
       "<Figure size 1440x720 with 9 Axes>"
      ]
     },
     "metadata": {},
     "output_type": "display_data"
    }
   ],
   "source": [
    "# Box Plots\n",
    "fig, axes = plt.subplots(nrows=2, ncols=5, figsize=(20,10))  # Create empty grid of subplots\n",
    "fig.subplots_adjust(hspace=.5)                       # Adjust vertical/height spacing \n",
    "\n",
    "# Fill each subplot with the distribution of a feature separated by potability\n",
    "a=0                               # Increment subplot coordinates\n",
    "for feature in df.drop('Potability', axis=1):    # Iterate through features ('Potability' is a label) \n",
    "  df.boxplot(by='Potability', column=[feature], ax=axes[ a%2, a%5 ], grid=False)    # Create boxplots for each feature grouped by potable or not (df.boxplot() auto handles nan correctly). Subplot coordinates [a%2, a%5] start top left and vertically zig zag moving right.\n",
    "  a+=1\n",
    "\n",
    "axes[1,4].remove()        # Remove unnecessary subplot from 2x5 grid\n",
    "plt.show()"
   ]
  },
  {
   "cell_type": "markdown",
   "id": "fa8757f6",
   "metadata": {
    "id": "Af5V0jffWsMC",
    "papermill": {
     "duration": 0.061976,
     "end_time": "2021-10-24T11:53:16.571156",
     "exception": false,
     "start_time": "2021-10-24T11:53:16.509180",
     "status": "completed"
    },
    "tags": []
   },
   "source": [
    "# **train_test_split**"
   ]
  },
  {
   "cell_type": "code",
   "execution_count": 17,
   "id": "a2722d2b",
   "metadata": {
    "execution": {
     "iopub.execute_input": "2021-10-24T11:53:16.702007Z",
     "iopub.status.busy": "2021-10-24T11:53:16.701012Z",
     "iopub.status.idle": "2021-10-24T11:53:16.706877Z",
     "shell.execute_reply": "2021-10-24T11:53:16.707403Z",
     "shell.execute_reply.started": "2021-10-24T11:50:50.188895Z"
    },
    "id": "J7Lhw4fEgA3C",
    "papermill": {
     "duration": 0.073559,
     "end_time": "2021-10-24T11:53:16.707585",
     "exception": false,
     "start_time": "2021-10-24T11:53:16.634026",
     "status": "completed"
    },
    "tags": []
   },
   "outputs": [],
   "source": [
    "df_copy=df\n",
    "x=df.drop([\"Potability\"],axis=1)\n",
    "y=df.Potability\n"
   ]
  },
  {
   "cell_type": "code",
   "execution_count": 18,
   "id": "51d86a1c",
   "metadata": {
    "execution": {
     "iopub.execute_input": "2021-10-24T11:53:16.843278Z",
     "iopub.status.busy": "2021-10-24T11:53:16.842613Z",
     "iopub.status.idle": "2021-10-24T11:53:16.845053Z",
     "shell.execute_reply": "2021-10-24T11:53:16.845618Z",
     "shell.execute_reply.started": "2021-10-24T11:50:50.200318Z"
    },
    "id": "qV_-3__IWqi5",
    "papermill": {
     "duration": 0.07169,
     "end_time": "2021-10-24T11:53:16.845809",
     "exception": false,
     "start_time": "2021-10-24T11:53:16.774119",
     "status": "completed"
    },
    "tags": []
   },
   "outputs": [],
   "source": [
    "X_train,X_test,y_train,y_test = train_test_split(x,y,test_size=0.25,random_state=0)"
   ]
  },
  {
   "cell_type": "code",
   "execution_count": 19,
   "id": "6e86f06b",
   "metadata": {
    "execution": {
     "iopub.execute_input": "2021-10-24T11:53:16.974319Z",
     "iopub.status.busy": "2021-10-24T11:53:16.973652Z",
     "iopub.status.idle": "2021-10-24T11:53:16.977384Z",
     "shell.execute_reply": "2021-10-24T11:53:16.977976Z",
     "shell.execute_reply.started": "2021-10-24T11:50:50.216978Z"
    },
    "id": "Y3u_JZFf7t21",
    "papermill": {
     "duration": 0.06953,
     "end_time": "2021-10-24T11:53:16.978176",
     "exception": false,
     "start_time": "2021-10-24T11:53:16.908646",
     "status": "completed"
    },
    "tags": []
   },
   "outputs": [],
   "source": [
    "Accuracy={}"
   ]
  },
  {
   "cell_type": "markdown",
   "id": "d9fc9de9",
   "metadata": {
    "id": "v4oYa7y24HcK",
    "papermill": {
     "duration": 0.063038,
     "end_time": "2021-10-24T11:53:17.105035",
     "exception": false,
     "start_time": "2021-10-24T11:53:17.041997",
     "status": "completed"
    },
    "tags": []
   },
   "source": [
    "# **Logistic regresion**"
   ]
  },
  {
   "cell_type": "code",
   "execution_count": 20,
   "id": "0b5cb876",
   "metadata": {
    "execution": {
     "iopub.execute_input": "2021-10-24T11:53:17.231962Z",
     "iopub.status.busy": "2021-10-24T11:53:17.231293Z",
     "iopub.status.idle": "2021-10-24T11:53:17.432593Z",
     "shell.execute_reply": "2021-10-24T11:53:17.433594Z",
     "shell.execute_reply.started": "2021-10-24T11:50:50.226181Z"
    },
    "id": "ENqAiyWB0uxZ",
    "papermill": {
     "duration": 0.266846,
     "end_time": "2021-10-24T11:53:17.433918",
     "exception": false,
     "start_time": "2021-10-24T11:53:17.167072",
     "status": "completed"
    },
    "tags": []
   },
   "outputs": [],
   "source": [
    "logistic_regression= LogisticRegression()\n",
    "logistic_regression.fit(X_train,y_train)\n",
    "y_pred=logistic_regression.predict(X_test)"
   ]
  },
  {
   "cell_type": "code",
   "execution_count": 21,
   "id": "7cc021e9",
   "metadata": {
    "execution": {
     "iopub.execute_input": "2021-10-24T11:53:17.617358Z",
     "iopub.status.busy": "2021-10-24T11:53:17.616698Z",
     "iopub.status.idle": "2021-10-24T11:53:17.907878Z",
     "shell.execute_reply": "2021-10-24T11:53:17.908433Z",
     "shell.execute_reply.started": "2021-10-24T11:50:50.291188Z"
    },
    "id": "5IMiIwBx5Mc7",
    "outputId": "edec3e32-7621-4f8c-fdbe-3c9c6f67d2bd",
    "papermill": {
     "duration": 0.360648,
     "end_time": "2021-10-24T11:53:17.908612",
     "exception": false,
     "start_time": "2021-10-24T11:53:17.547964",
     "status": "completed"
    },
    "tags": []
   },
   "outputs": [
    {
     "data": {
      "text/plain": [
       "<AxesSubplot:xlabel='Predicted', ylabel='Actual'>"
      ]
     },
     "execution_count": 21,
     "metadata": {},
     "output_type": "execute_result"
    },
    {
     "data": {
      "image/png": "[encoded data removed]",
      "text/plain": [
       "<Figure size 432x288 with 2 Axes>"
      ]
     },
     "metadata": {},
     "output_type": "display_data"
    }
   ],
   "source": [
    "confusion_matrix = pd.crosstab(y_test, y_pred, rownames=['Actual'], colnames=['Predicted'])\n",
    "sns.heatmap(confusion_matrix, annot=True,fmt='g')"
   ]
  },
  {
   "cell_type": "code",
   "execution_count": 22,
   "id": "1ff55a6c",
   "metadata": {
    "execution": {
     "iopub.execute_input": "2021-10-24T11:53:18.038606Z",
     "iopub.status.busy": "2021-10-24T11:53:18.037925Z",
     "iopub.status.idle": "2021-10-24T11:53:18.044638Z",
     "shell.execute_reply": "2021-10-24T11:53:18.045281Z",
     "shell.execute_reply.started": "2021-10-24T11:50:50.642523Z"
    },
    "id": "zkABdBAz64kR",
    "outputId": "f2f91c45-ea61-4206-ae91-01bc1e2ac854",
    "papermill": {
     "duration": 0.073349,
     "end_time": "2021-10-24T11:53:18.045452",
     "exception": false,
     "start_time": "2021-10-24T11:53:17.972103",
     "status": "completed"
    },
    "tags": []
   },
   "outputs": [
    {
     "name": "stdout",
     "output_type": "stream",
     "text": [
      "Accuracy Logistic regresion:  61.23 %\n"
     ]
    }
   ],
   "source": [
    "Accuracy_Logistic_regresion=round((metrics.accuracy_score(y_test, y_pred)*100),2)\n",
    "print('Accuracy Logistic regresion: ',Accuracy_Logistic_regresion,\"%\")\n",
    "Accuracy[\"Logisticregresion\"]=Accuracy_Logistic_regresion"
   ]
  },
  {
   "cell_type": "markdown",
   "id": "0bd6c9e7",
   "metadata": {
    "id": "-9boqYZwW78d",
    "papermill": {
     "duration": 0.064802,
     "end_time": "2021-10-24T11:53:18.176342",
     "exception": false,
     "start_time": "2021-10-24T11:53:18.111540",
     "status": "completed"
    },
    "tags": []
   },
   "source": [
    "# **SVM**"
   ]
  },
  {
   "cell_type": "code",
   "execution_count": 23,
   "id": "8682f943",
   "metadata": {
    "execution": {
     "iopub.execute_input": "2021-10-24T11:53:18.306102Z",
     "iopub.status.busy": "2021-10-24T11:53:18.305473Z",
     "iopub.status.idle": "2021-10-24T11:53:18.309228Z",
     "shell.execute_reply": "2021-10-24T11:53:18.309724Z",
     "shell.execute_reply.started": "2021-10-24T11:50:50.651023Z"
    },
    "id": "nPbskwBf73hm",
    "papermill": {
     "duration": 0.070325,
     "end_time": "2021-10-24T11:53:18.309901",
     "exception": false,
     "start_time": "2021-10-24T11:53:18.239576",
     "status": "completed"
    },
    "tags": []
   },
   "outputs": [],
   "source": [
    "from sklearn import svm"
   ]
  },
  {
   "cell_type": "code",
   "execution_count": 24,
   "id": "68a8f052",
   "metadata": {
    "execution": {
     "iopub.execute_input": "2021-10-24T11:53:18.441711Z",
     "iopub.status.busy": "2021-10-24T11:53:18.441078Z",
     "iopub.status.idle": "2021-10-24T11:53:18.708187Z",
     "shell.execute_reply": "2021-10-24T11:53:18.707568Z",
     "shell.execute_reply.started": "2021-10-24T11:50:50.663770Z"
    },
    "id": "OnsODIXn9MZg",
    "papermill": {
     "duration": 0.333058,
     "end_time": "2021-10-24T11:53:18.708358",
     "exception": false,
     "start_time": "2021-10-24T11:53:18.375300",
     "status": "completed"
    },
    "tags": []
   },
   "outputs": [],
   "source": [
    "svm_class= svm.SVC()\n",
    "svm_class.fit(X_train,y_train)\n",
    "y_pred=svm_class.predict(X_test)"
   ]
  },
  {
   "cell_type": "code",
   "execution_count": 25,
   "id": "509b8b0d",
   "metadata": {
    "execution": {
     "iopub.execute_input": "2021-10-24T11:53:18.844991Z",
     "iopub.status.busy": "2021-10-24T11:53:18.844309Z",
     "iopub.status.idle": "2021-10-24T11:53:19.123364Z",
     "shell.execute_reply": "2021-10-24T11:53:19.123835Z",
     "shell.execute_reply.started": "2021-10-24T11:50:50.962245Z"
    },
    "id": "T9HT3H3O9MmO",
    "outputId": "a925a967-7ee4-443b-db0f-1fe6d73525de",
    "papermill": {
     "duration": 0.349621,
     "end_time": "2021-10-24T11:53:19.124047",
     "exception": false,
     "start_time": "2021-10-24T11:53:18.774426",
     "status": "completed"
    },
    "tags": []
   },
   "outputs": [
    {
     "data": {
      "text/plain": [
       "<AxesSubplot:xlabel='Predicted', ylabel='Actual'>"
      ]
     },
     "execution_count": 25,
     "metadata": {},
     "output_type": "execute_result"
    },
    {
     "data": {
      "image/png": "[encoded data removed]",
      "text/plain": [
       "<Figure size 432x288 with 2 Axes>"
      ]
     },
     "metadata": {},
     "output_type": "display_data"
    }
   ],
   "source": [
    "confusion_matrix = pd.crosstab(y_test, y_pred, rownames=['Actual'], colnames=['Predicted'])\n",
    "sns.heatmap(confusion_matrix, annot=True, cmap=\"YlGnBu\" ,fmt='g')"
   ]
  },
  {
   "cell_type": "code",
   "execution_count": 26,
   "id": "7a0289d6",
   "metadata": {
    "execution": {
     "iopub.execute_input": "2021-10-24T11:53:19.260097Z",
     "iopub.status.busy": "2021-10-24T11:53:19.259149Z",
     "iopub.status.idle": "2021-10-24T11:53:19.266992Z",
     "shell.execute_reply": "2021-10-24T11:53:19.266462Z",
     "shell.execute_reply.started": "2021-10-24T11:50:51.269456Z"
    },
    "id": "aYJ9hXll9MpH",
    "outputId": "0d4750ab-0b42-4ddd-ae71-76143737f6c4",
    "papermill": {
     "duration": 0.07804,
     "end_time": "2021-10-24T11:53:19.267126",
     "exception": false,
     "start_time": "2021-10-24T11:53:19.189086",
     "status": "completed"
    },
    "tags": []
   },
   "outputs": [
    {
     "name": "stdout",
     "output_type": "stream",
     "text": [
      "Accuracy:  61.23 %\n"
     ]
    }
   ],
   "source": [
    "Accuracy_Svm=round((metrics.accuracy_score(y_test, y_pred)*100),2)\n",
    "print('Accuracy: ',Accuracy_Svm,\"%\")\n",
    "Accuracy[\"SVC\"]=Accuracy_Svm"
   ]
  },
  {
   "cell_type": "markdown",
   "id": "3fe40e7e",
   "metadata": {
    "id": "f_Ui2a1uDf0Z",
    "papermill": {
     "duration": 0.064564,
     "end_time": "2021-10-24T11:53:19.397120",
     "exception": false,
     "start_time": "2021-10-24T11:53:19.332556",
     "status": "completed"
    },
    "tags": []
   },
   "source": [
    "# **Decision Tree Classifier**"
   ]
  },
  {
   "cell_type": "code",
   "execution_count": 27,
   "id": "90d3095e",
   "metadata": {
    "execution": {
     "iopub.execute_input": "2021-10-24T11:53:19.529868Z",
     "iopub.status.busy": "2021-10-24T11:53:19.529228Z",
     "iopub.status.idle": "2021-10-24T11:53:19.532757Z",
     "shell.execute_reply": "2021-10-24T11:53:19.533280Z",
     "shell.execute_reply.started": "2021-10-24T11:50:51.285635Z"
    },
    "id": "WkjBYeRl9MuC",
    "papermill": {
     "duration": 0.071652,
     "end_time": "2021-10-24T11:53:19.533460",
     "exception": false,
     "start_time": "2021-10-24T11:53:19.461808",
     "status": "completed"
    },
    "tags": []
   },
   "outputs": [],
   "source": [
    "from sklearn import tree"
   ]
  },
  {
   "cell_type": "code",
   "execution_count": 28,
   "id": "5b0ae8d1",
   "metadata": {
    "execution": {
     "iopub.execute_input": "2021-10-24T11:53:19.667849Z",
     "iopub.status.busy": "2021-10-24T11:53:19.667185Z",
     "iopub.status.idle": "2021-10-24T11:53:19.698011Z",
     "shell.execute_reply": "2021-10-24T11:53:19.697453Z",
     "shell.execute_reply.started": "2021-10-24T11:50:51.294702Z"
    },
    "id": "HCKqcG3G9MxK",
    "papermill": {
     "duration": 0.09952,
     "end_time": "2021-10-24T11:53:19.698157",
     "exception": false,
     "start_time": "2021-10-24T11:53:19.598637",
     "status": "completed"
    },
    "tags": []
   },
   "outputs": [],
   "source": [
    "clf=tree.DecisionTreeClassifier()\n",
    "clf.fit(X_train,y_train)\n",
    "y_pred=clf.predict(X_test)"
   ]
  },
  {
   "cell_type": "code",
   "execution_count": 29,
   "id": "e4e0bcdd",
   "metadata": {
    "execution": {
     "iopub.execute_input": "2021-10-24T11:53:19.835503Z",
     "iopub.status.busy": "2021-10-24T11:53:19.834792Z",
     "iopub.status.idle": "2021-10-24T11:53:20.115859Z",
     "shell.execute_reply": "2021-10-24T11:53:20.115273Z",
     "shell.execute_reply.started": "2021-10-24T11:50:51.336425Z"
    },
    "id": "MBBrqDpXG1E8",
    "outputId": "bcf84b2c-d383-44a0-964e-7d84d5418748",
    "papermill": {
     "duration": 0.351395,
     "end_time": "2021-10-24T11:53:20.116026",
     "exception": false,
     "start_time": "2021-10-24T11:53:19.764631",
     "status": "completed"
    },
    "tags": []
   },
   "outputs": [
    {
     "data": {
      "text/plain": [
       "<AxesSubplot:xlabel='Predicted', ylabel='Actual'>"
      ]
     },
     "execution_count": 29,
     "metadata": {},
     "output_type": "execute_result"
    },
    {
     "data": {
      "image/png": "[encoded data removed]",
      "text/plain": [
       "<Figure size 432x288 with 2 Axes>"
      ]
     },
     "metadata": {},
     "output_type": "display_data"
    }
   ],
   "source": [
    "confusion_matrix = pd.crosstab(y_test, y_pred, rownames=['Actual'], colnames=['Predicted'])\n",
    "sns.heatmap(confusion_matrix, annot=True, cmap=\"YlGnBu\" ,fmt='g')"
   ]
  },
  {
   "cell_type": "code",
   "execution_count": 30,
   "id": "cdbbd449",
   "metadata": {
    "execution": {
     "iopub.execute_input": "2021-10-24T11:53:20.263048Z",
     "iopub.status.busy": "2021-10-24T11:53:20.261980Z",
     "iopub.status.idle": "2021-10-24T11:53:20.266528Z",
     "shell.execute_reply": "2021-10-24T11:53:20.267379Z",
     "shell.execute_reply.started": "2021-10-24T11:50:51.624890Z"
    },
    "id": "9tClrc0nDIrg",
    "outputId": "d3af5f9b-9582-48db-e3de-eefe7aa08854",
    "papermill": {
     "duration": 0.085533,
     "end_time": "2021-10-24T11:53:20.267577",
     "exception": false,
     "start_time": "2021-10-24T11:53:20.182044",
     "status": "completed"
    },
    "tags": []
   },
   "outputs": [
    {
     "name": "stdout",
     "output_type": "stream",
     "text": [
      "Accuracy:  74.45 %\n"
     ]
    }
   ],
   "source": [
    "Accuracy_Decision_Tree=round((metrics.accuracy_score(y_test, y_pred)*100),2)\n",
    "print('Accuracy: ',Accuracy_Decision_Tree,\"%\")\n",
    "Accuracy[\"DecisionTreeClassifier\"]=Accuracy_Decision_Tree"
   ]
  },
  {
   "cell_type": "markdown",
   "id": "8ec7a00f",
   "metadata": {
    "id": "gIwnUZEZ0bNB",
    "papermill": {
     "duration": 0.066838,
     "end_time": "2021-10-24T11:53:20.426864",
     "exception": false,
     "start_time": "2021-10-24T11:53:20.360026",
     "status": "completed"
    },
    "tags": []
   },
   "source": [
    "# **RandomForestClassifier**"
   ]
  },
  {
   "cell_type": "code",
   "execution_count": 31,
   "id": "9f0fa78e",
   "metadata": {
    "execution": {
     "iopub.execute_input": "2021-10-24T11:53:20.590929Z",
     "iopub.status.busy": "2021-10-24T11:53:20.589875Z",
     "iopub.status.idle": "2021-10-24T11:53:20.593994Z",
     "shell.execute_reply": "2021-10-24T11:53:20.594585Z",
     "shell.execute_reply.started": "2021-10-24T11:50:51.632992Z"
    },
    "id": "gPvLaiIU0FkM",
    "papermill": {
     "duration": 0.084129,
     "end_time": "2021-10-24T11:53:20.594752",
     "exception": false,
     "start_time": "2021-10-24T11:53:20.510623",
     "status": "completed"
    },
    "tags": []
   },
   "outputs": [],
   "source": [
    "from sklearn.ensemble import RandomForestClassifier"
   ]
  },
  {
   "cell_type": "code",
   "execution_count": 32,
   "id": "9508783b",
   "metadata": {
    "execution": {
     "iopub.execute_input": "2021-10-24T11:53:20.748157Z",
     "iopub.status.busy": "2021-10-24T11:53:20.747301Z",
     "iopub.status.idle": "2021-10-24T11:53:21.489089Z",
     "shell.execute_reply": "2021-10-24T11:53:21.487901Z",
     "shell.execute_reply.started": "2021-10-24T11:50:51.644738Z"
    },
    "id": "tTDtu_030FnX",
    "papermill": {
     "duration": 0.827243,
     "end_time": "2021-10-24T11:53:21.489244",
     "exception": false,
     "start_time": "2021-10-24T11:53:20.662001",
     "status": "completed"
    },
    "tags": []
   },
   "outputs": [],
   "source": [
    "clf= RandomForestClassifier()\n",
    "clf.fit(X_train,y_train)\n",
    "y_pred=clf.predict(X_test)"
   ]
  },
  {
   "cell_type": "code",
   "execution_count": 33,
   "id": "6a5af8c9",
   "metadata": {
    "execution": {
     "iopub.execute_input": "2021-10-24T11:53:21.631138Z",
     "iopub.status.busy": "2021-10-24T11:53:21.630423Z",
     "iopub.status.idle": "2021-10-24T11:53:21.925572Z",
     "shell.execute_reply": "2021-10-24T11:53:21.926056Z",
     "shell.execute_reply.started": "2021-10-24T11:50:52.398204Z"
    },
    "id": "C3JN15kQ0J87",
    "outputId": "88db1b92-0d3b-4166-d2d1-e8f20529ca2c",
    "papermill": {
     "duration": 0.370638,
     "end_time": "2021-10-24T11:53:21.926237",
     "exception": false,
     "start_time": "2021-10-24T11:53:21.555599",
     "status": "completed"
    },
    "tags": []
   },
   "outputs": [
    {
     "data": {
      "text/plain": [
       "<AxesSubplot:xlabel='Predicted', ylabel='Actual'>"
      ]
     },
     "execution_count": 33,
     "metadata": {},
     "output_type": "execute_result"
    },
    {
     "data": {
      "image/png": "[encoded data removed]",
      "text/plain": [
       "<Figure size 432x288 with 2 Axes>"
      ]
     },
     "metadata": {},
     "output_type": "display_data"
    }
   ],
   "source": [
    "confusion_matrix = pd.crosstab(y_test, y_pred, rownames=['Actual'], colnames=['Predicted'])\n",
    "sns.heatmap(confusion_matrix, annot=True, cmap=\"YlGnBu\" ,fmt='g')"
   ]
  },
  {
   "cell_type": "code",
   "execution_count": 34,
   "id": "dff3d2bc",
   "metadata": {
    "execution": {
     "iopub.execute_input": "2021-10-24T11:53:22.067699Z",
     "iopub.status.busy": "2021-10-24T11:53:22.066707Z",
     "iopub.status.idle": "2021-10-24T11:53:22.072413Z",
     "shell.execute_reply": "2021-10-24T11:53:22.073246Z",
     "shell.execute_reply.started": "2021-10-24T11:50:52.725761Z"
    },
    "id": "JbXwuonc0KAH",
    "outputId": "e331867b-0901-4699-ef4d-5e16a988186d",
    "papermill": {
     "duration": 0.07973,
     "end_time": "2021-10-24T11:53:22.073479",
     "exception": false,
     "start_time": "2021-10-24T11:53:21.993749",
     "status": "completed"
    },
    "tags": []
   },
   "outputs": [
    {
     "name": "stdout",
     "output_type": "stream",
     "text": [
      "Accuracy_RandomForestClassifier :  81.0 %\n"
     ]
    }
   ],
   "source": [
    "Accuracy_RandomForestClassifier=round((accuracy_score(y_test,y_pred)*100),2)\n",
    "print(\"Accuracy_RandomForestClassifier : \",Accuracy_RandomForestClassifier,\"%\")\n",
    "Accuracy[\"RandomForestClassifier\"]=Accuracy_RandomForestClassifier"
   ]
  },
  {
   "cell_type": "markdown",
   "id": "fa1d6df8",
   "metadata": {
    "id": "9OX1HEPtDNvn",
    "papermill": {
     "duration": 0.067048,
     "end_time": "2021-10-24T11:53:22.209047",
     "exception": false,
     "start_time": "2021-10-24T11:53:22.141999",
     "status": "completed"
    },
    "tags": []
   },
   "source": [
    "# **KNeighborsClassifier**"
   ]
  },
  {
   "cell_type": "code",
   "execution_count": 35,
   "id": "16a818dd",
   "metadata": {
    "execution": {
     "iopub.execute_input": "2021-10-24T11:53:22.347350Z",
     "iopub.status.busy": "2021-10-24T11:53:22.346357Z",
     "iopub.status.idle": "2021-10-24T11:53:22.396777Z",
     "shell.execute_reply": "2021-10-24T11:53:22.396136Z",
     "shell.execute_reply.started": "2021-10-24T11:50:52.734493Z"
    },
    "id": "s97vwZkmIgd_",
    "papermill": {
     "duration": 0.120428,
     "end_time": "2021-10-24T11:53:22.396941",
     "exception": false,
     "start_time": "2021-10-24T11:53:22.276513",
     "status": "completed"
    },
    "tags": []
   },
   "outputs": [],
   "source": [
    "clf=KNeighborsClassifier()\n",
    "clf.fit(X_train,y_train)\n",
    "y_pred=clf.predict(X_test)"
   ]
  },
  {
   "cell_type": "code",
   "execution_count": 36,
   "id": "434520ac",
   "metadata": {
    "execution": {
     "iopub.execute_input": "2021-10-24T11:53:22.541063Z",
     "iopub.status.busy": "2021-10-24T11:53:22.540045Z",
     "iopub.status.idle": "2021-10-24T11:53:22.821598Z",
     "shell.execute_reply": "2021-10-24T11:53:22.822232Z",
     "shell.execute_reply.started": "2021-10-24T11:50:52.791802Z"
    },
    "id": "AqwSr3A8Iil3",
    "outputId": "112f00dd-679b-43c1-ba0e-f9e7d5a114d3",
    "papermill": {
     "duration": 0.357884,
     "end_time": "2021-10-24T11:53:22.822406",
     "exception": false,
     "start_time": "2021-10-24T11:53:22.464522",
     "status": "completed"
    },
    "tags": []
   },
   "outputs": [
    {
     "data": {
      "text/plain": [
       "<AxesSubplot:xlabel='Predicted', ylabel='Actual'>"
      ]
     },
     "execution_count": 36,
     "metadata": {},
     "output_type": "execute_result"
    },
    {
     "data": {
      "image/png": "[encoded data removed]",
      "text/plain": [
       "<Figure size 432x288 with 2 Axes>"
      ]
     },
     "metadata": {},
     "output_type": "display_data"
    }
   ],
   "source": [
    "confusion_matrix = pd.crosstab(y_test, y_pred, rownames=['Actual'], colnames=['Predicted'])\n",
    "sns.heatmap(confusion_matrix, annot=True, cmap=\"YlGnBu\" ,fmt='g')\n"
   ]
  },
  {
   "cell_type": "code",
   "execution_count": 37,
   "id": "af86fe2e",
   "metadata": {
    "execution": {
     "iopub.execute_input": "2021-10-24T11:53:22.966357Z",
     "iopub.status.busy": "2021-10-24T11:53:22.965395Z",
     "iopub.status.idle": "2021-10-24T11:53:22.972717Z",
     "shell.execute_reply": "2021-10-24T11:53:22.973324Z",
     "shell.execute_reply.started": "2021-10-24T11:50:53.084275Z"
    },
    "id": "BU1E8lUvDsm7",
    "outputId": "b551938f-6a9e-445d-bf21-a8de58d742cb",
    "papermill": {
     "duration": 0.081194,
     "end_time": "2021-10-24T11:53:22.973504",
     "exception": false,
     "start_time": "2021-10-24T11:53:22.892310",
     "status": "completed"
    },
    "tags": []
   },
   "outputs": [
    {
     "name": "stdout",
     "output_type": "stream",
     "text": [
      "Accuracy_KNeighborsClassifier :  56.1 %\n"
     ]
    }
   ],
   "source": [
    "Accuracy_KNeighborsClassifier=round((metrics.accuracy_score(y_test,y_pred)*100),2)\n",
    "print(\"Accuracy_KNeighborsClassifier : \",Accuracy_KNeighborsClassifier,\"%\")\n",
    "Accuracy[\"Accuracy_KNeighborsClassifier\"]=Accuracy_KNeighborsClassifier"
   ]
  },
  {
   "cell_type": "markdown",
   "id": "7037b188",
   "metadata": {
    "papermill": {
     "duration": 0.071627,
     "end_time": "2021-10-24T11:53:23.116732",
     "exception": false,
     "start_time": "2021-10-24T11:53:23.045105",
     "status": "completed"
    },
    "tags": []
   },
   "source": [
    "# **XGBClassifier**"
   ]
  },
  {
   "cell_type": "code",
   "execution_count": 38,
   "id": "7d48f49b",
   "metadata": {
    "execution": {
     "iopub.execute_input": "2021-10-24T11:53:23.260509Z",
     "iopub.status.busy": "2021-10-24T11:53:23.259708Z",
     "iopub.status.idle": "2021-10-24T11:53:23.346298Z",
     "shell.execute_reply": "2021-10-24T11:53:23.345564Z",
     "shell.execute_reply.started": "2021-10-24T11:50:53.093317Z"
    },
    "papermill": {
     "duration": 0.160299,
     "end_time": "2021-10-24T11:53:23.346449",
     "exception": false,
     "start_time": "2021-10-24T11:53:23.186150",
     "status": "completed"
    },
    "tags": []
   },
   "outputs": [],
   "source": [
    "import xgboost as xgb"
   ]
  },
  {
   "cell_type": "code",
   "execution_count": 39,
   "id": "046d1d12",
   "metadata": {
    "execution": {
     "iopub.execute_input": "2021-10-24T11:53:23.491741Z",
     "iopub.status.busy": "2021-10-24T11:53:23.491057Z",
     "iopub.status.idle": "2021-10-24T11:53:23.493749Z",
     "shell.execute_reply": "2021-10-24T11:53:23.494287Z",
     "shell.execute_reply.started": "2021-10-24T11:50:53.104765Z"
    },
    "papermill": {
     "duration": 0.078462,
     "end_time": "2021-10-24T11:53:23.494461",
     "exception": false,
     "start_time": "2021-10-24T11:53:23.415999",
     "status": "completed"
    },
    "tags": []
   },
   "outputs": [],
   "source": [
    "xg_reg = xgb.XGBClassifier(eval_metric = 'logloss', use_label_encoder=False)"
   ]
  },
  {
   "cell_type": "code",
   "execution_count": 40,
   "id": "0fd231ce",
   "metadata": {
    "execution": {
     "iopub.execute_input": "2021-10-24T11:53:23.639690Z",
     "iopub.status.busy": "2021-10-24T11:53:23.639001Z",
     "iopub.status.idle": "2021-10-24T11:53:24.297803Z",
     "shell.execute_reply": "2021-10-24T11:53:24.297299Z",
     "shell.execute_reply.started": "2021-10-24T11:50:53.118560Z"
    },
    "papermill": {
     "duration": 0.731707,
     "end_time": "2021-10-24T11:53:24.297959",
     "exception": false,
     "start_time": "2021-10-24T11:53:23.566252",
     "status": "completed"
    },
    "tags": []
   },
   "outputs": [
    {
     "data": {
      "text/plain": [
       "<AxesSubplot:xlabel='Predicted', ylabel='Actual'>"
      ]
     },
     "execution_count": 40,
     "metadata": {},
     "output_type": "execute_result"
    },
    {
     "data": {
      "image/png": "[encoded data removed]",
      "text/plain": [
       "<Figure size 432x288 with 2 Axes>"
      ]
     },
     "metadata": {},
     "output_type": "display_data"
    }
   ],
   "source": [
    "xg_reg.fit(X_train,y_train)\n",
    "y_pred = xg_reg.predict(X_test)\n",
    "confusion_matrix = pd.crosstab(y_test, y_pred, rownames=['Actual'], colnames=['Predicted'])\n",
    "sns.heatmap(confusion_matrix, annot=True, cmap=\"YlGnBu\" ,fmt='g')"
   ]
  },
  {
   "cell_type": "code",
   "execution_count": 41,
   "id": "95758dab",
   "metadata": {
    "execution": {
     "iopub.execute_input": "2021-10-24T11:53:24.445846Z",
     "iopub.status.busy": "2021-10-24T11:53:24.445177Z",
     "iopub.status.idle": "2021-10-24T11:53:24.724975Z",
     "shell.execute_reply": "2021-10-24T11:53:24.725530Z",
     "shell.execute_reply.started": "2021-10-24T11:50:53.860585Z"
    },
    "papermill": {
     "duration": 0.357297,
     "end_time": "2021-10-24T11:53:24.725708",
     "exception": false,
     "start_time": "2021-10-24T11:53:24.368411",
     "status": "completed"
    },
    "tags": []
   },
   "outputs": [
    {
     "data": {
      "image/png": "[encoded data removed]",
      "text/plain": [
       "<Figure size 432x288 with 1 Axes>"
      ]
     },
     "metadata": {},
     "output_type": "display_data"
    }
   ],
   "source": [
    "xgb.plot_importance(xg_reg)\n",
    "plt.rcParams['figure.figsize'] = [5, 5]\n",
    "plt.show()"
   ]
  },
  {
   "cell_type": "markdown",
   "id": "6ffff3d8",
   "metadata": {
    "papermill": {
     "duration": 0.070972,
     "end_time": "2021-10-24T11:53:24.870669",
     "exception": false,
     "start_time": "2021-10-24T11:53:24.799697",
     "status": "completed"
    },
    "tags": []
   },
   "source": [
    "# **All Model Building**"
   ]
  },
  {
   "cell_type": "code",
   "execution_count": 42,
   "id": "3da4d527",
   "metadata": {
    "execution": {
     "iopub.execute_input": "2021-10-24T11:53:25.016593Z",
     "iopub.status.busy": "2021-10-24T11:53:25.015850Z",
     "iopub.status.idle": "2021-10-24T11:53:25.019824Z",
     "shell.execute_reply": "2021-10-24T11:53:25.020434Z",
     "shell.execute_reply.started": "2021-10-24T11:50:54.221806Z"
    },
    "papermill": {
     "duration": 0.078875,
     "end_time": "2021-10-24T11:53:25.020604",
     "exception": false,
     "start_time": "2021-10-24T11:53:24.941729",
     "status": "completed"
    },
    "tags": []
   },
   "outputs": [],
   "source": [
    "from xgboost import XGBClassifier\n",
    "from sklearn.ensemble import AdaBoostClassifier\n",
    "from sklearn.model_selection import RandomizedSearchCV, GridSearchCV"
   ]
  },
  {
   "cell_type": "code",
   "execution_count": 43,
   "id": "704fc957",
   "metadata": {
    "execution": {
     "iopub.execute_input": "2021-10-24T11:53:25.168422Z",
     "iopub.status.busy": "2021-10-24T11:53:25.167744Z",
     "iopub.status.idle": "2021-10-24T11:53:27.223763Z",
     "shell.execute_reply": "2021-10-24T11:53:27.223123Z",
     "shell.execute_reply.started": "2021-10-24T11:50:54.230618Z"
    },
    "id": "gGM4UCyaFxXb",
    "papermill": {
     "duration": 2.131009,
     "end_time": "2021-10-24T11:53:27.223921",
     "exception": false,
     "start_time": "2021-10-24T11:53:25.092912",
     "status": "completed"
    },
    "tags": []
   },
   "outputs": [],
   "source": [
    "models = [  \n",
    "  LogisticRegression(),\n",
    "  SVC(),\n",
    "  DecisionTreeClassifier(),\n",
    "  XGBClassifier(eval_metric = 'logloss', use_label_encoder=False),\n",
    "  AdaBoostClassifier(),\n",
    "  RandomForestClassifier(),\n",
    "  AdaBoostClassifier(),\n",
    "  GaussianNB(),\n",
    "  KNeighborsClassifier()]\n",
    "\n",
    "model_name=[\"LogisticRegression\",\"SVC\",\"DecisionTreeClassifier\",'XGBClassifier','AdaBoostClassifier',\"RandomForestClassifier\",\"AdaBoostClassifier\",\"GaussianNB\",\"KNeighborsClassifier\"]\n",
    "\n",
    "prints={}\n",
    "for mod,name in zip(models,model_name):\n",
    "  model=mod\n",
    "  model.fit(X_train,y_train)\n",
    "  y_pred=model.predict(X_test)\n",
    "  acc=round((accuracy_score(y_test,y_pred)*100),2)\n",
    "  prints[name]=acc"
   ]
  },
  {
   "cell_type": "code",
   "execution_count": 44,
   "id": "fb1a345b",
   "metadata": {
    "execution": {
     "iopub.execute_input": "2021-10-24T11:53:27.371078Z",
     "iopub.status.busy": "2021-10-24T11:53:27.370354Z",
     "iopub.status.idle": "2021-10-24T11:53:27.385358Z",
     "shell.execute_reply": "2021-10-24T11:53:27.385915Z",
     "shell.execute_reply.started": "2021-10-24T11:50:56.387689Z"
    },
    "id": "Vv6xdRh5ZymZ",
    "outputId": "97efa901-8e48-41f1-9aa2-dc59cf397b87",
    "papermill": {
     "duration": 0.089815,
     "end_time": "2021-10-24T11:53:27.386099",
     "exception": false,
     "start_time": "2021-10-24T11:53:27.296284",
     "status": "completed"
    },
    "tags": []
   },
   "outputs": [
    {
     "data": {
      "text/html": [
       "<div>\n",
       "<style scoped>\n",
       "    .dataframe tbody tr th:only-of-type {\n",
       "        vertical-align: middle;\n",
       "    }\n",
       "\n",
       "    .dataframe tbody tr th {\n",
       "        vertical-align: top;\n",
       "    }\n",
       "\n",
       "    .dataframe thead th {\n",
       "        text-align: right;\n",
       "    }\n",
       "</style>\n",
       "<table border=\"1\" class=\"dataframe\">\n",
       "  <thead>\n",
       "    <tr style=\"text-align: right;\">\n",
       "      <th></th>\n",
       "      <th>LogisticRegression</th>\n",
       "      <th>SVC</th>\n",
       "      <th>DecisionTreeClassifier</th>\n",
       "      <th>XGBClassifier</th>\n",
       "      <th>AdaBoostClassifier</th>\n",
       "      <th>RandomForestClassifier</th>\n",
       "      <th>GaussianNB</th>\n",
       "      <th>KNeighborsClassifier</th>\n",
       "    </tr>\n",
       "  </thead>\n",
       "  <tbody>\n",
       "    <tr>\n",
       "      <th>1</th>\n",
       "      <td>61.23</td>\n",
       "      <td>61.23</td>\n",
       "      <td>74.84</td>\n",
       "      <td>79.2</td>\n",
       "      <td>74.71</td>\n",
       "      <td>80.62</td>\n",
       "      <td>60.85</td>\n",
       "      <td>56.1</td>\n",
       "    </tr>\n",
       "  </tbody>\n",
       "</table>\n",
       "</div>"
      ],
      "text/plain": [
       "   LogisticRegression    SVC  DecisionTreeClassifier  XGBClassifier  \\\n",
       "1               61.23  61.23                   74.84           79.2   \n",
       "\n",
       "   AdaBoostClassifier  RandomForestClassifier  GaussianNB  \\\n",
       "1               74.71                   80.62       60.85   \n",
       "\n",
       "   KNeighborsClassifier  \n",
       "1                  56.1  "
      ]
     },
     "execution_count": 44,
     "metadata": {},
     "output_type": "execute_result"
    }
   ],
   "source": [
    "accuracy_all=pd.DataFrame(prints,index=[1])\n",
    "accuracy_all"
   ]
  },
  {
   "cell_type": "code",
   "execution_count": 45,
   "id": "0fbefb15",
   "metadata": {
    "execution": {
     "iopub.execute_input": "2021-10-24T11:53:27.532008Z",
     "iopub.status.busy": "2021-10-24T11:53:27.531343Z",
     "iopub.status.idle": "2021-10-24T11:53:27.534947Z",
     "shell.execute_reply": "2021-10-24T11:53:27.535520Z",
     "shell.execute_reply.started": "2021-10-24T11:50:56.407777Z"
    },
    "id": "iO2LEagJkFJE",
    "papermill": {
     "duration": 0.078091,
     "end_time": "2021-10-24T11:53:27.535687",
     "exception": false,
     "start_time": "2021-10-24T11:53:27.457596",
     "status": "completed"
    },
    "tags": []
   },
   "outputs": [],
   "source": [
    "from sklearn.model_selection import TimeSeriesSplit, cross_val_score, GridSearchCV"
   ]
  },
  {
   "cell_type": "code",
   "execution_count": 46,
   "id": "e458b0ea",
   "metadata": {
    "execution": {
     "iopub.execute_input": "2021-10-24T11:53:27.683723Z",
     "iopub.status.busy": "2021-10-24T11:53:27.683118Z",
     "iopub.status.idle": "2021-10-24T11:53:27.686478Z",
     "shell.execute_reply": "2021-10-24T11:53:27.685977Z",
     "shell.execute_reply.started": "2021-10-24T11:50:56.420230Z"
    },
    "id": "Dr30r7oZkwFM",
    "papermill": {
     "duration": 0.079229,
     "end_time": "2021-10-24T11:53:27.686618",
     "exception": false,
     "start_time": "2021-10-24T11:53:27.607389",
     "status": "completed"
    },
    "tags": []
   },
   "outputs": [],
   "source": [
    "from sklearn.metrics import mean_absolute_error\n",
    "from sklearn.ensemble import RandomForestRegressor"
   ]
  },
  {
   "cell_type": "code",
   "execution_count": 47,
   "id": "ddf87296",
   "metadata": {
    "execution": {
     "iopub.execute_input": "2021-10-24T11:53:27.840196Z",
     "iopub.status.busy": "2021-10-24T11:53:27.839494Z",
     "iopub.status.idle": "2021-10-24T11:53:27.845986Z",
     "shell.execute_reply": "2021-10-24T11:53:27.846645Z",
     "shell.execute_reply.started": "2021-10-24T11:50:56.438040Z"
    },
    "id": "LNjuyJ69x7LG",
    "outputId": "9c6e83fe-d33f-499a-9bcc-d43f3c1dc3b2",
    "papermill": {
     "duration": 0.084098,
     "end_time": "2021-10-24T11:53:27.846818",
     "exception": false,
     "start_time": "2021-10-24T11:53:27.762720",
     "status": "completed"
    },
    "tags": []
   },
   "outputs": [
    {
     "name": "stdout",
     "output_type": "stream",
     "text": [
      "{'n_neighbors': [3, 4, 5, 6, 7, 8, 10]}\n"
     ]
    }
   ],
   "source": [
    "# Create the random grid\n",
    "random_grid = {\"n_neighbors\":[3,4,5,6,7,8,10]\n",
    "               }\n",
    "\n",
    "rf = KNeighborsClassifier()\n",
    "\n",
    "from pprint import pprint\n",
    "pprint(random_grid)\n",
    "rf = KNeighborsClassifier()\n",
    "grid_cv_dtm = GridSearchCV(rf, random_grid)"
   ]
  },
  {
   "cell_type": "code",
   "execution_count": 48,
   "id": "b53368ef",
   "metadata": {
    "execution": {
     "iopub.execute_input": "2021-10-24T11:53:27.995181Z",
     "iopub.status.busy": "2021-10-24T11:53:27.994259Z",
     "iopub.status.idle": "2021-10-24T11:53:28.971761Z",
     "shell.execute_reply": "2021-10-24T11:53:28.971227Z",
     "shell.execute_reply.started": "2021-10-24T11:50:56.457608Z"
    },
    "id": "eTvNXk_Jz1MB",
    "outputId": "74055f45-6a73-4991-ae3a-6abc5937a49b",
    "papermill": {
     "duration": 1.052924,
     "end_time": "2021-10-24T11:53:28.971933",
     "exception": false,
     "start_time": "2021-10-24T11:53:27.919009",
     "status": "completed"
    },
    "tags": []
   },
   "outputs": [
    {
     "data": {
      "text/plain": [
       "GridSearchCV(estimator=KNeighborsClassifier(),\n",
       "             param_grid={'n_neighbors': [3, 4, 5, 6, 7, 8, 10]})"
      ]
     },
     "execution_count": 48,
     "metadata": {},
     "output_type": "execute_result"
    }
   ],
   "source": [
    "grid_cv_dtm.fit(X_train,y_train)"
   ]
  },
  {
   "cell_type": "code",
   "execution_count": 49,
   "id": "e861ab01",
   "metadata": {
    "execution": {
     "iopub.execute_input": "2021-10-24T11:53:29.124235Z",
     "iopub.status.busy": "2021-10-24T11:53:29.123075Z",
     "iopub.status.idle": "2021-10-24T11:53:29.148538Z",
     "shell.execute_reply": "2021-10-24T11:53:29.149091Z",
     "shell.execute_reply.started": "2021-10-24T11:50:57.468991Z"
    },
    "id": "ymr0xoqwyPfP",
    "outputId": "505440ee-0bf6-4a18-d539-d964cfb935c6",
    "papermill": {
     "duration": 0.102858,
     "end_time": "2021-10-24T11:53:29.149267",
     "exception": false,
     "start_time": "2021-10-24T11:53:29.046409",
     "status": "completed"
    },
    "tags": []
   },
   "outputs": [
    {
     "data": {
      "text/html": [
       "<div>\n",
       "<style scoped>\n",
       "    .dataframe tbody tr th:only-of-type {\n",
       "        vertical-align: middle;\n",
       "    }\n",
       "\n",
       "    .dataframe tbody tr th {\n",
       "        vertical-align: top;\n",
       "    }\n",
       "\n",
       "    .dataframe thead th {\n",
       "        text-align: right;\n",
       "    }\n",
       "</style>\n",
       "<table border=\"1\" class=\"dataframe\">\n",
       "  <thead>\n",
       "    <tr style=\"text-align: right;\">\n",
       "      <th></th>\n",
       "      <th>mean_fit_time</th>\n",
       "      <th>std_fit_time</th>\n",
       "      <th>mean_score_time</th>\n",
       "      <th>std_score_time</th>\n",
       "      <th>param_n_neighbors</th>\n",
       "      <th>params</th>\n",
       "      <th>split0_test_score</th>\n",
       "      <th>split1_test_score</th>\n",
       "      <th>split2_test_score</th>\n",
       "      <th>split3_test_score</th>\n",
       "      <th>split4_test_score</th>\n",
       "      <th>mean_test_score</th>\n",
       "      <th>std_test_score</th>\n",
       "      <th>rank_test_score</th>\n",
       "    </tr>\n",
       "  </thead>\n",
       "  <tbody>\n",
       "    <tr>\n",
       "      <th>0</th>\n",
       "      <td>0.004910</td>\n",
       "      <td>0.000161</td>\n",
       "      <td>0.021451</td>\n",
       "      <td>0.000138</td>\n",
       "      <td>3</td>\n",
       "      <td>{'n_neighbors': 3}</td>\n",
       "      <td>0.543897</td>\n",
       "      <td>0.576017</td>\n",
       "      <td>0.524625</td>\n",
       "      <td>0.571734</td>\n",
       "      <td>0.488223</td>\n",
       "      <td>0.540899</td>\n",
       "      <td>0.032350</td>\n",
       "      <td>7</td>\n",
       "    </tr>\n",
       "    <tr>\n",
       "      <th>1</th>\n",
       "      <td>0.004805</td>\n",
       "      <td>0.000046</td>\n",
       "      <td>0.021825</td>\n",
       "      <td>0.000219</td>\n",
       "      <td>4</td>\n",
       "      <td>{'n_neighbors': 4}</td>\n",
       "      <td>0.576017</td>\n",
       "      <td>0.599572</td>\n",
       "      <td>0.565310</td>\n",
       "      <td>0.582441</td>\n",
       "      <td>0.578158</td>\n",
       "      <td>0.580300</td>\n",
       "      <td>0.011168</td>\n",
       "      <td>4</td>\n",
       "    </tr>\n",
       "    <tr>\n",
       "      <th>2</th>\n",
       "      <td>0.004800</td>\n",
       "      <td>0.000062</td>\n",
       "      <td>0.021656</td>\n",
       "      <td>0.000067</td>\n",
       "      <td>5</td>\n",
       "      <td>{'n_neighbors': 5}</td>\n",
       "      <td>0.565310</td>\n",
       "      <td>0.552463</td>\n",
       "      <td>0.565310</td>\n",
       "      <td>0.580300</td>\n",
       "      <td>0.539615</td>\n",
       "      <td>0.560600</td>\n",
       "      <td>0.013704</td>\n",
       "      <td>6</td>\n",
       "    </tr>\n",
       "    <tr>\n",
       "      <th>3</th>\n",
       "      <td>0.004769</td>\n",
       "      <td>0.000046</td>\n",
       "      <td>0.021745</td>\n",
       "      <td>0.000139</td>\n",
       "      <td>6</td>\n",
       "      <td>{'n_neighbors': 6}</td>\n",
       "      <td>0.576017</td>\n",
       "      <td>0.578158</td>\n",
       "      <td>0.578158</td>\n",
       "      <td>0.584582</td>\n",
       "      <td>0.588865</td>\n",
       "      <td>0.581156</td>\n",
       "      <td>0.004807</td>\n",
       "      <td>3</td>\n",
       "    </tr>\n",
       "    <tr>\n",
       "      <th>4</th>\n",
       "      <td>0.004726</td>\n",
       "      <td>0.000073</td>\n",
       "      <td>0.021818</td>\n",
       "      <td>0.000131</td>\n",
       "      <td>7</td>\n",
       "      <td>{'n_neighbors': 7}</td>\n",
       "      <td>0.569593</td>\n",
       "      <td>0.556745</td>\n",
       "      <td>0.573876</td>\n",
       "      <td>0.591006</td>\n",
       "      <td>0.561028</td>\n",
       "      <td>0.570450</td>\n",
       "      <td>0.011930</td>\n",
       "      <td>5</td>\n",
       "    </tr>\n",
       "    <tr>\n",
       "      <th>5</th>\n",
       "      <td>0.004943</td>\n",
       "      <td>0.000186</td>\n",
       "      <td>0.022882</td>\n",
       "      <td>0.000870</td>\n",
       "      <td>8</td>\n",
       "      <td>{'n_neighbors': 8}</td>\n",
       "      <td>0.582441</td>\n",
       "      <td>0.578158</td>\n",
       "      <td>0.567452</td>\n",
       "      <td>0.608137</td>\n",
       "      <td>0.584582</td>\n",
       "      <td>0.584154</td>\n",
       "      <td>0.013366</td>\n",
       "      <td>2</td>\n",
       "    </tr>\n",
       "    <tr>\n",
       "      <th>6</th>\n",
       "      <td>0.004845</td>\n",
       "      <td>0.000039</td>\n",
       "      <td>0.022257</td>\n",
       "      <td>0.000281</td>\n",
       "      <td>10</td>\n",
       "      <td>{'n_neighbors': 10}</td>\n",
       "      <td>0.576017</td>\n",
       "      <td>0.599572</td>\n",
       "      <td>0.586724</td>\n",
       "      <td>0.610278</td>\n",
       "      <td>0.608137</td>\n",
       "      <td>0.596146</td>\n",
       "      <td>0.013032</td>\n",
       "      <td>1</td>\n",
       "    </tr>\n",
       "  </tbody>\n",
       "</table>\n",
       "</div>"
      ],
      "text/plain": [
       "   mean_fit_time  std_fit_time  mean_score_time  std_score_time  \\\n",
       "0       0.004910      0.000161         0.021451        0.000138   \n",
       "1       0.004805      0.000046         0.021825        0.000219   \n",
       "2       0.004800      0.000062         0.021656        0.000067   \n",
       "3       0.004769      0.000046         0.021745        0.000139   \n",
       "4       0.004726      0.000073         0.021818        0.000131   \n",
       "5       0.004943      0.000186         0.022882        0.000870   \n",
       "6       0.004845      0.000039         0.022257        0.000281   \n",
       "\n",
       "  param_n_neighbors               params  split0_test_score  \\\n",
       "0                 3   {'n_neighbors': 3}           0.543897   \n",
       "1                 4   {'n_neighbors': 4}           0.576017   \n",
       "2                 5   {'n_neighbors': 5}           0.565310   \n",
       "3                 6   {'n_neighbors': 6}           0.576017   \n",
       "4                 7   {'n_neighbors': 7}           0.569593   \n",
       "5                 8   {'n_neighbors': 8}           0.582441   \n",
       "6                10  {'n_neighbors': 10}           0.576017   \n",
       "\n",
       "   split1_test_score  split2_test_score  split3_test_score  split4_test_score  \\\n",
       "0           0.576017           0.524625           0.571734           0.488223   \n",
       "1           0.599572           0.565310           0.582441           0.578158   \n",
       "2           0.552463           0.565310           0.580300           0.539615   \n",
       "3           0.578158           0.578158           0.584582           0.588865   \n",
       "4           0.556745           0.573876           0.591006           0.561028   \n",
       "5           0.578158           0.567452           0.608137           0.584582   \n",
       "6           0.599572           0.586724           0.610278           0.608137   \n",
       "\n",
       "   mean_test_score  std_test_score  rank_test_score  \n",
       "0         0.540899        0.032350                7  \n",
       "1         0.580300        0.011168                4  \n",
       "2         0.560600        0.013704                6  \n",
       "3         0.581156        0.004807                3  \n",
       "4         0.570450        0.011930                5  \n",
       "5         0.584154        0.013366                2  \n",
       "6         0.596146        0.013032                1  "
      ]
     },
     "execution_count": 49,
     "metadata": {},
     "output_type": "execute_result"
    }
   ],
   "source": [
    "df = pd.DataFrame(data=grid_cv_dtm.cv_results_)\n",
    "df.head(7)"
   ]
  },
  {
   "cell_type": "markdown",
   "id": "303ead8f",
   "metadata": {
    "papermill": {
     "duration": 0.072908,
     "end_time": "2021-10-24T11:53:29.295397",
     "exception": false,
     "start_time": "2021-10-24T11:53:29.222489",
     "status": "completed"
    },
    "tags": []
   },
   "source": [
    "# **Deep Learning**"
   ]
  },
  {
   "cell_type": "code",
   "execution_count": 50,
   "id": "a83ab316",
   "metadata": {
    "execution": {
     "iopub.execute_input": "2021-10-24T11:53:29.448379Z",
     "iopub.status.busy": "2021-10-24T11:53:29.447422Z",
     "iopub.status.idle": "2021-10-24T11:53:34.885147Z",
     "shell.execute_reply": "2021-10-24T11:53:34.883704Z",
     "shell.execute_reply.started": "2021-10-24T11:50:57.504587Z"
    },
    "papermill": {
     "duration": 5.516344,
     "end_time": "2021-10-24T11:53:34.885325",
     "exception": false,
     "start_time": "2021-10-24T11:53:29.368981",
     "status": "completed"
    },
    "tags": []
   },
   "outputs": [],
   "source": [
    "from sklearn.model_selection import train_test_split\n",
    "from tensorflow import keras\n",
    "import tensorflow as tf\n",
    "from tensorflow.keras import layers\n",
    "from tensorflow.keras.layers import LeakyReLU\n",
    "from tensorflow.keras import models\n",
    "from tensorflow.keras.layers import BatchNormalization, Dropout\n",
    "from tensorflow.keras.optimizers import Adam, Adagrad, RMSprop, SGD\n",
    "from tensorflow.keras.layers import Activation\n",
    "from sklearn.metrics import accuracy_score\n",
    "from sklearn.preprocessing import StandardScaler\n",
    "from tensorflow.keras.layers import BatchNormalization\n",
    "from keras.models import Sequential, load_model\n",
    "from keras.layers.core import Dense, Dropout, Activation"
   ]
  },
  {
   "cell_type": "code",
   "execution_count": 51,
   "id": "a34e6d4f",
   "metadata": {
    "execution": {
     "iopub.execute_input": "2021-10-24T11:53:35.040426Z",
     "iopub.status.busy": "2021-10-24T11:53:35.039632Z",
     "iopub.status.idle": "2021-10-24T11:53:35.044928Z",
     "shell.execute_reply": "2021-10-24T11:53:35.045495Z",
     "shell.execute_reply.started": "2021-10-24T11:50:57.517210Z"
    },
    "papermill": {
     "duration": 0.083164,
     "end_time": "2021-10-24T11:53:35.045693",
     "exception": false,
     "start_time": "2021-10-24T11:53:34.962529",
     "status": "completed"
    },
    "tags": []
   },
   "outputs": [],
   "source": [
    "x = df_copy.drop(['Potability'], axis = 1)\n",
    "y = df_copy['Potability']"
   ]
  },
  {
   "cell_type": "code",
   "execution_count": 52,
   "id": "f83d5fd4",
   "metadata": {
    "execution": {
     "iopub.execute_input": "2021-10-24T11:53:35.196598Z",
     "iopub.status.busy": "2021-10-24T11:53:35.195958Z",
     "iopub.status.idle": "2021-10-24T11:53:35.206382Z",
     "shell.execute_reply": "2021-10-24T11:53:35.206845Z",
     "shell.execute_reply.started": "2021-10-24T11:50:57.529555Z"
    },
    "papermill": {
     "duration": 0.087631,
     "end_time": "2021-10-24T11:53:35.207042",
     "exception": false,
     "start_time": "2021-10-24T11:53:35.119411",
     "status": "completed"
    },
    "tags": []
   },
   "outputs": [],
   "source": [
    "st = StandardScaler()\n",
    "x_columns= x.columns\n",
    "x[x_columns] = st.fit_transform(x[x_columns])"
   ]
  },
  {
   "cell_type": "code",
   "execution_count": 53,
   "id": "776035e6",
   "metadata": {
    "execution": {
     "iopub.execute_input": "2021-10-24T11:53:35.356143Z",
     "iopub.status.busy": "2021-10-24T11:53:35.355503Z",
     "iopub.status.idle": "2021-10-24T11:53:35.373546Z",
     "shell.execute_reply": "2021-10-24T11:53:35.374053Z",
     "shell.execute_reply.started": "2021-10-24T11:50:57.551734Z"
    },
    "papermill": {
     "duration": 0.094227,
     "end_time": "2021-10-24T11:53:35.374244",
     "exception": false,
     "start_time": "2021-10-24T11:53:35.280017",
     "status": "completed"
    },
    "tags": []
   },
   "outputs": [
    {
     "data": {
      "text/html": [
       "<div>\n",
       "<style scoped>\n",
       "    .dataframe tbody tr th:only-of-type {\n",
       "        vertical-align: middle;\n",
       "    }\n",
       "\n",
       "    .dataframe tbody tr th {\n",
       "        vertical-align: top;\n",
       "    }\n",
       "\n",
       "    .dataframe thead th {\n",
       "        text-align: right;\n",
       "    }\n",
       "</style>\n",
       "<table border=\"1\" class=\"dataframe\">\n",
       "  <thead>\n",
       "    <tr style=\"text-align: right;\">\n",
       "      <th></th>\n",
       "      <th>ph</th>\n",
       "      <th>Hardness</th>\n",
       "      <th>Solids</th>\n",
       "      <th>Chloramines</th>\n",
       "      <th>Sulfate</th>\n",
       "      <th>Conductivity</th>\n",
       "      <th>Organic_carbon</th>\n",
       "      <th>Trihalomethanes</th>\n",
       "      <th>Turbidity</th>\n",
       "    </tr>\n",
       "  </thead>\n",
       "  <tbody>\n",
       "    <tr>\n",
       "      <th>0</th>\n",
       "      <td>0.003480</td>\n",
       "      <td>0.257900</td>\n",
       "      <td>-0.134481</td>\n",
       "      <td>0.111702</td>\n",
       "      <td>0.963481</td>\n",
       "      <td>1.700988</td>\n",
       "      <td>-1.176271</td>\n",
       "      <td>1.273445</td>\n",
       "      <td>-1.290536</td>\n",
       "    </tr>\n",
       "    <tr>\n",
       "      <th>1</th>\n",
       "      <td>-2.302400</td>\n",
       "      <td>-2.037266</td>\n",
       "      <td>-0.382094</td>\n",
       "      <td>-0.309156</td>\n",
       "      <td>0.024389</td>\n",
       "      <td>2.054036</td>\n",
       "      <td>0.271169</td>\n",
       "      <td>-0.622493</td>\n",
       "      <td>0.688131</td>\n",
       "    </tr>\n",
       "    <tr>\n",
       "      <th>2</th>\n",
       "      <td>0.697267</td>\n",
       "      <td>0.846257</td>\n",
       "      <td>-0.235505</td>\n",
       "      <td>1.362107</td>\n",
       "      <td>0.024389</td>\n",
       "      <td>-0.099078</td>\n",
       "      <td>0.780348</td>\n",
       "      <td>0.001472</td>\n",
       "      <td>-1.171112</td>\n",
       "    </tr>\n",
       "    <tr>\n",
       "      <th>3</th>\n",
       "      <td>0.846217</td>\n",
       "      <td>0.546301</td>\n",
       "      <td>0.006106</td>\n",
       "      <td>0.592150</td>\n",
       "      <td>0.641795</td>\n",
       "      <td>-0.782767</td>\n",
       "      <td>1.253122</td>\n",
       "      <td>2.098969</td>\n",
       "      <td>0.853004</td>\n",
       "    </tr>\n",
       "    <tr>\n",
       "      <th>4</th>\n",
       "      <td>1.376925</td>\n",
       "      <td>-0.465584</td>\n",
       "      <td>-0.456686</td>\n",
       "      <td>-0.365260</td>\n",
       "      <td>-0.651287</td>\n",
       "      <td>-0.348580</td>\n",
       "      <td>-0.820912</td>\n",
       "      <td>-2.126974</td>\n",
       "      <td>0.140442</td>\n",
       "    </tr>\n",
       "  </tbody>\n",
       "</table>\n",
       "</div>"
      ],
      "text/plain": [
       "         ph  Hardness    Solids  Chloramines   Sulfate  Conductivity  \\\n",
       "0  0.003480  0.257900 -0.134481     0.111702  0.963481      1.700988   \n",
       "1 -2.302400 -2.037266 -0.382094    -0.309156  0.024389      2.054036   \n",
       "2  0.697267  0.846257 -0.235505     1.362107  0.024389     -0.099078   \n",
       "3  0.846217  0.546301  0.006106     0.592150  0.641795     -0.782767   \n",
       "4  1.376925 -0.465584 -0.456686    -0.365260 -0.651287     -0.348580   \n",
       "\n",
       "   Organic_carbon  Trihalomethanes  Turbidity  \n",
       "0       -1.176271         1.273445  -1.290536  \n",
       "1        0.271169        -0.622493   0.688131  \n",
       "2        0.780348         0.001472  -1.171112  \n",
       "3        1.253122         2.098969   0.853004  \n",
       "4       -0.820912        -2.126974   0.140442  "
      ]
     },
     "execution_count": 53,
     "metadata": {},
     "output_type": "execute_result"
    }
   ],
   "source": [
    "x.head()"
   ]
  },
  {
   "cell_type": "code",
   "execution_count": 54,
   "id": "cb8e129a",
   "metadata": {
    "execution": {
     "iopub.execute_input": "2021-10-24T11:53:35.528448Z",
     "iopub.status.busy": "2021-10-24T11:53:35.524973Z",
     "iopub.status.idle": "2021-10-24T11:53:35.569438Z",
     "shell.execute_reply": "2021-10-24T11:53:35.568836Z",
     "shell.execute_reply.started": "2021-10-24T11:50:57.574834Z"
    },
    "papermill": {
     "duration": 0.121514,
     "end_time": "2021-10-24T11:53:35.569577",
     "exception": false,
     "start_time": "2021-10-24T11:53:35.448063",
     "status": "completed"
    },
    "tags": []
   },
   "outputs": [
    {
     "data": {
      "text/html": [
       "<div>\n",
       "<style scoped>\n",
       "    .dataframe tbody tr th:only-of-type {\n",
       "        vertical-align: middle;\n",
       "    }\n",
       "\n",
       "    .dataframe tbody tr th {\n",
       "        vertical-align: top;\n",
       "    }\n",
       "\n",
       "    .dataframe thead th {\n",
       "        text-align: right;\n",
       "    }\n",
       "</style>\n",
       "<table border=\"1\" class=\"dataframe\">\n",
       "  <thead>\n",
       "    <tr style=\"text-align: right;\">\n",
       "      <th></th>\n",
       "      <th>ph</th>\n",
       "      <th>Hardness</th>\n",
       "      <th>Solids</th>\n",
       "      <th>Chloramines</th>\n",
       "      <th>Sulfate</th>\n",
       "      <th>Conductivity</th>\n",
       "      <th>Organic_carbon</th>\n",
       "      <th>Trihalomethanes</th>\n",
       "      <th>Turbidity</th>\n",
       "    </tr>\n",
       "  </thead>\n",
       "  <tbody>\n",
       "    <tr>\n",
       "      <th>count</th>\n",
       "      <td>3.114000e+03</td>\n",
       "      <td>3.114000e+03</td>\n",
       "      <td>3.114000e+03</td>\n",
       "      <td>3.114000e+03</td>\n",
       "      <td>3.114000e+03</td>\n",
       "      <td>3.114000e+03</td>\n",
       "      <td>3.114000e+03</td>\n",
       "      <td>3.114000e+03</td>\n",
       "      <td>3.114000e+03</td>\n",
       "    </tr>\n",
       "    <tr>\n",
       "      <th>mean</th>\n",
       "      <td>2.166611e-16</td>\n",
       "      <td>6.815447e-17</td>\n",
       "      <td>1.975869e-16</td>\n",
       "      <td>3.112297e-16</td>\n",
       "      <td>3.445738e-16</td>\n",
       "      <td>-1.013961e-16</td>\n",
       "      <td>-5.797475e-16</td>\n",
       "      <td>2.041470e-16</td>\n",
       "      <td>-1.986565e-16</td>\n",
       "    </tr>\n",
       "    <tr>\n",
       "      <th>std</th>\n",
       "      <td>1.000161e+00</td>\n",
       "      <td>1.000161e+00</td>\n",
       "      <td>1.000161e+00</td>\n",
       "      <td>1.000161e+00</td>\n",
       "      <td>1.000161e+00</td>\n",
       "      <td>1.000161e+00</td>\n",
       "      <td>1.000161e+00</td>\n",
       "      <td>1.000161e+00</td>\n",
       "      <td>1.000161e+00</td>\n",
       "    </tr>\n",
       "    <tr>\n",
       "      <th>min</th>\n",
       "      <td>-4.845611e+00</td>\n",
       "      <td>-3.738264e+00</td>\n",
       "      <td>-2.479743e+00</td>\n",
       "      <td>-4.285829e+00</td>\n",
       "      <td>-5.661371e+00</td>\n",
       "      <td>-3.028583e+00</td>\n",
       "      <td>-3.642765e+00</td>\n",
       "      <td>-4.059895e+00</td>\n",
       "      <td>-3.237821e+00</td>\n",
       "    </tr>\n",
       "    <tr>\n",
       "      <th>25%</th>\n",
       "      <td>-5.514050e-01</td>\n",
       "      <td>-5.964947e-01</td>\n",
       "      <td>-7.198364e-01</td>\n",
       "      <td>-6.236567e-01</td>\n",
       "      <td>-4.657179e-01</td>\n",
       "      <td>-7.449540e-01</td>\n",
       "      <td>-6.684332e-01</td>\n",
       "      <td>-6.524542e-01</td>\n",
       "      <td>-6.731408e-01</td>\n",
       "    </tr>\n",
       "    <tr>\n",
       "      <th>50%</th>\n",
       "      <td>3.480034e-03</td>\n",
       "      <td>2.066250e-02</td>\n",
       "      <td>-1.231074e-01</td>\n",
       "      <td>-1.487029e-03</td>\n",
       "      <td>2.438910e-02</td>\n",
       "      <td>-5.726790e-02</td>\n",
       "      <td>-1.848497e-02</td>\n",
       "      <td>1.398630e-02</td>\n",
       "      <td>-1.220090e-02</td>\n",
       "    </tr>\n",
       "    <tr>\n",
       "      <th>75%</th>\n",
       "      <td>5.374422e-01</td>\n",
       "      <td>6.177003e-01</td>\n",
       "      <td>5.995403e-01</td>\n",
       "      <td>6.275081e-01</td>\n",
       "      <td>4.615061e-01</td>\n",
       "      <td>6.894922e-01</td>\n",
       "      <td>6.868617e-01</td>\n",
       "      <td>6.765336e-01</td>\n",
       "      <td>6.843334e-01</td>\n",
       "    </tr>\n",
       "    <tr>\n",
       "      <th>max</th>\n",
       "      <td>4.735709e+00</td>\n",
       "      <td>3.853692e+00</td>\n",
       "      <td>4.498199e+00</td>\n",
       "      <td>3.799482e+00</td>\n",
       "      <td>4.075543e+00</td>\n",
       "      <td>4.036389e+00</td>\n",
       "      <td>4.227309e+00</td>\n",
       "      <td>3.561850e+00</td>\n",
       "      <td>3.568701e+00</td>\n",
       "    </tr>\n",
       "  </tbody>\n",
       "</table>\n",
       "</div>"
      ],
      "text/plain": [
       "                 ph      Hardness        Solids   Chloramines       Sulfate  \\\n",
       "count  3.114000e+03  3.114000e+03  3.114000e+03  3.114000e+03  3.114000e+03   \n",
       "mean   2.166611e-16  6.815447e-17  1.975869e-16  3.112297e-16  3.445738e-16   \n",
       "std    1.000161e+00  1.000161e+00  1.000161e+00  1.000161e+00  1.000161e+00   \n",
       "min   -4.845611e+00 -3.738264e+00 -2.479743e+00 -4.285829e+00 -5.661371e+00   \n",
       "25%   -5.514050e-01 -5.964947e-01 -7.198364e-01 -6.236567e-01 -4.657179e-01   \n",
       "50%    3.480034e-03  2.066250e-02 -1.231074e-01 -1.487029e-03  2.438910e-02   \n",
       "75%    5.374422e-01  6.177003e-01  5.995403e-01  6.275081e-01  4.615061e-01   \n",
       "max    4.735709e+00  3.853692e+00  4.498199e+00  3.799482e+00  4.075543e+00   \n",
       "\n",
       "       Conductivity  Organic_carbon  Trihalomethanes     Turbidity  \n",
       "count  3.114000e+03    3.114000e+03     3.114000e+03  3.114000e+03  \n",
       "mean  -1.013961e-16   -5.797475e-16     2.041470e-16 -1.986565e-16  \n",
       "std    1.000161e+00    1.000161e+00     1.000161e+00  1.000161e+00  \n",
       "min   -3.028583e+00   -3.642765e+00    -4.059895e+00 -3.237821e+00  \n",
       "25%   -7.449540e-01   -6.684332e-01    -6.524542e-01 -6.731408e-01  \n",
       "50%   -5.726790e-02   -1.848497e-02     1.398630e-02 -1.220090e-02  \n",
       "75%    6.894922e-01    6.868617e-01     6.765336e-01  6.843334e-01  \n",
       "max    4.036389e+00    4.227309e+00     3.561850e+00  3.568701e+00  "
      ]
     },
     "execution_count": 54,
     "metadata": {},
     "output_type": "execute_result"
    }
   ],
   "source": [
    "x.describe()"
   ]
  },
  {
   "cell_type": "code",
   "execution_count": 55,
   "id": "95d96926",
   "metadata": {
    "execution": {
     "iopub.execute_input": "2021-10-24T11:53:35.723108Z",
     "iopub.status.busy": "2021-10-24T11:53:35.722418Z",
     "iopub.status.idle": "2021-10-24T11:53:35.728806Z",
     "shell.execute_reply": "2021-10-24T11:53:35.729405Z",
     "shell.execute_reply.started": "2021-10-24T11:50:57.621292Z"
    },
    "papermill": {
     "duration": 0.084676,
     "end_time": "2021-10-24T11:53:35.729588",
     "exception": false,
     "start_time": "2021-10-24T11:53:35.644912",
     "status": "completed"
    },
    "tags": []
   },
   "outputs": [],
   "source": [
    "X_train, X_test, Y_train, Y_test = train_test_split(x,y, test_size = 0.25, random_state = 0)"
   ]
  },
  {
   "cell_type": "code",
   "execution_count": 56,
   "id": "861acae3",
   "metadata": {
    "execution": {
     "iopub.execute_input": "2021-10-24T11:53:35.884422Z",
     "iopub.status.busy": "2021-10-24T11:53:35.883769Z",
     "iopub.status.idle": "2021-10-24T11:53:35.888000Z",
     "shell.execute_reply": "2021-10-24T11:53:35.888497Z",
     "shell.execute_reply.started": "2021-10-24T11:50:57.631747Z"
    },
    "papermill": {
     "duration": 0.083421,
     "end_time": "2021-10-24T11:53:35.888672",
     "exception": false,
     "start_time": "2021-10-24T11:53:35.805251",
     "status": "completed"
    },
    "tags": []
   },
   "outputs": [],
   "source": [
    "num_classes =2\n",
    "Y_train = keras.utils.to_categorical(Y_train, num_classes)\n",
    "Y_test = keras.utils.to_categorical(Y_test, num_classes)"
   ]
  },
  {
   "cell_type": "code",
   "execution_count": 57,
   "id": "4ea6122b",
   "metadata": {
    "execution": {
     "iopub.execute_input": "2021-10-24T11:53:36.042103Z",
     "iopub.status.busy": "2021-10-24T11:53:36.041432Z",
     "iopub.status.idle": "2021-10-24T11:53:36.166454Z",
     "shell.execute_reply": "2021-10-24T11:53:36.165825Z",
     "shell.execute_reply.started": "2021-10-24T11:50:57.643924Z"
    },
    "papermill": {
     "duration": 0.202908,
     "end_time": "2021-10-24T11:53:36.166618",
     "exception": false,
     "start_time": "2021-10-24T11:53:35.963710",
     "status": "completed"
    },
    "tags": []
   },
   "outputs": [],
   "source": [
    "model = models.Sequential()\n",
    "\n",
    "model.add(layers.Dense(100, input_shape=(9,)))\n",
    "model.add(Activation(\"relu\"))\n",
    "\n",
    "\n",
    "model.add(layers.Dense(100))\n",
    "model.add(Activation(\"relu\"))\n",
    "model.add(Dropout(0.25))\n",
    "\n",
    "model.add(layers.Dense(50))\n",
    "model.add(Activation(\"relu\"))\n",
    "model.add(Dropout(0.25))\n",
    "\n",
    "model.add(layers.Dense(2))\n",
    "model.add(Activation(\"sigmoid\"))"
   ]
  },
  {
   "cell_type": "code",
   "execution_count": 58,
   "id": "ede5f5db",
   "metadata": {
    "execution": {
     "iopub.execute_input": "2021-10-24T11:53:36.324636Z",
     "iopub.status.busy": "2021-10-24T11:53:36.323962Z",
     "iopub.status.idle": "2021-10-24T11:53:36.336191Z",
     "shell.execute_reply": "2021-10-24T11:53:36.336730Z",
     "shell.execute_reply.started": "2021-10-24T11:50:57.715851Z"
    },
    "papermill": {
     "duration": 0.095991,
     "end_time": "2021-10-24T11:53:36.336927",
     "exception": false,
     "start_time": "2021-10-24T11:53:36.240936",
     "status": "completed"
    },
    "tags": []
   },
   "outputs": [],
   "source": [
    "model.compile(loss=\"binary_crossentropy\",\n",
    "              optimizer=tf.keras.optimizers.Adam(learning_rate=0.0001,beta_1=0.85,beta_2=0.9),\n",
    "              metrics=['accuracy'])"
   ]
  },
  {
   "cell_type": "code",
   "execution_count": 59,
   "id": "d65108a9",
   "metadata": {
    "execution": {
     "iopub.execute_input": "2021-10-24T11:53:36.495747Z",
     "iopub.status.busy": "2021-10-24T11:53:36.494979Z",
     "iopub.status.idle": "2021-10-24T11:53:36.501870Z",
     "shell.execute_reply": "2021-10-24T11:53:36.502410Z",
     "shell.execute_reply.started": "2021-10-24T11:50:57.733323Z"
    },
    "papermill": {
     "duration": 0.088162,
     "end_time": "2021-10-24T11:53:36.502597",
     "exception": false,
     "start_time": "2021-10-24T11:53:36.414435",
     "status": "completed"
    },
    "tags": []
   },
   "outputs": [
    {
     "name": "stdout",
     "output_type": "stream",
     "text": [
      "Model: \"sequential\"\n",
      "_________________________________________________________________\n",
      "Layer (type)                 Output Shape              Param #   \n",
      "=================================================================\n",
      "dense (Dense)                (None, 100)               1000      \n",
      "_________________________________________________________________\n",
      "activation (Activation)      (None, 100)               0         \n",
      "_________________________________________________________________\n",
      "dense_1 (Dense)              (None, 100)               10100     \n",
      "_________________________________________________________________\n",
      "activation_1 (Activation)    (None, 100)               0         \n",
      "_________________________________________________________________\n",
      "dropout (Dropout)            (None, 100)               0         \n",
      "_________________________________________________________________\n",
      "dense_2 (Dense)              (None, 50)                5050      \n",
      "_________________________________________________________________\n",
      "activation_2 (Activation)    (None, 50)                0         \n",
      "_________________________________________________________________\n",
      "dropout_1 (Dropout)          (None, 50)                0         \n",
      "_________________________________________________________________\n",
      "dense_3 (Dense)              (None, 2)                 102       \n",
      "_________________________________________________________________\n",
      "activation_3 (Activation)    (None, 2)                 0         \n",
      "=================================================================\n",
      "Total params: 16,252\n",
      "Trainable params: 16,252\n",
      "Non-trainable params: 0\n",
      "_________________________________________________________________\n"
     ]
    }
   ],
   "source": [
    "model.summary()"
   ]
  },
  {
   "cell_type": "code",
   "execution_count": 60,
   "id": "1abb43bf",
   "metadata": {
    "execution": {
     "iopub.execute_input": "2021-10-24T11:53:36.657793Z",
     "iopub.status.busy": "2021-10-24T11:53:36.657041Z",
     "iopub.status.idle": "2021-10-24T11:54:16.468389Z",
     "shell.execute_reply": "2021-10-24T11:54:16.467791Z",
     "shell.execute_reply.started": "2021-10-24T11:50:57.755744Z"
    },
    "papermill": {
     "duration": 39.891301,
     "end_time": "2021-10-24T11:54:16.468544",
     "exception": false,
     "start_time": "2021-10-24T11:53:36.577243",
     "status": "completed"
    },
    "tags": []
   },
   "outputs": [
    {
     "name": "stdout",
     "output_type": "stream",
     "text": [
      "Epoch 1/200\n",
      "73/73 - 1s - loss: 0.6959 - accuracy: 0.5259 - val_loss: 0.6806 - val_accuracy: 0.6123\n",
      "Epoch 2/200\n",
      "73/73 - 0s - loss: 0.6784 - accuracy: 0.6064 - val_loss: 0.6744 - val_accuracy: 0.6110\n",
      "Epoch 3/200\n",
      "73/73 - 0s - loss: 0.6770 - accuracy: 0.6034 - val_loss: 0.6707 - val_accuracy: 0.6123\n",
      "Epoch 4/200\n",
      "73/73 - 0s - loss: 0.6678 - accuracy: 0.6103 - val_loss: 0.6679 - val_accuracy: 0.6110\n",
      "Epoch 5/200\n",
      "73/73 - 0s - loss: 0.6651 - accuracy: 0.6030 - val_loss: 0.6654 - val_accuracy: 0.6110\n",
      "Epoch 6/200\n",
      "73/73 - 0s - loss: 0.6649 - accuracy: 0.6099 - val_loss: 0.6627 - val_accuracy: 0.6123\n",
      "Epoch 7/200\n",
      "73/73 - 0s - loss: 0.6616 - accuracy: 0.6081 - val_loss: 0.6610 - val_accuracy: 0.6175\n",
      "Epoch 8/200\n",
      "73/73 - 0s - loss: 0.6574 - accuracy: 0.6240 - val_loss: 0.6584 - val_accuracy: 0.6239\n",
      "Epoch 9/200\n",
      "73/73 - 0s - loss: 0.6526 - accuracy: 0.6240 - val_loss: 0.6558 - val_accuracy: 0.6264\n",
      "Epoch 10/200\n",
      "73/73 - 0s - loss: 0.6496 - accuracy: 0.6330 - val_loss: 0.6540 - val_accuracy: 0.6329\n",
      "Epoch 11/200\n",
      "73/73 - 0s - loss: 0.6492 - accuracy: 0.6313 - val_loss: 0.6522 - val_accuracy: 0.6457\n",
      "Epoch 12/200\n",
      "73/73 - 0s - loss: 0.6433 - accuracy: 0.6407 - val_loss: 0.6498 - val_accuracy: 0.6508\n",
      "Epoch 13/200\n",
      "73/73 - 0s - loss: 0.6398 - accuracy: 0.6385 - val_loss: 0.6473 - val_accuracy: 0.6483\n",
      "Epoch 14/200\n",
      "73/73 - 0s - loss: 0.6382 - accuracy: 0.6355 - val_loss: 0.6454 - val_accuracy: 0.6483\n",
      "Epoch 15/200\n",
      "73/73 - 0s - loss: 0.6353 - accuracy: 0.6522 - val_loss: 0.6437 - val_accuracy: 0.6508\n",
      "Epoch 16/200\n",
      "73/73 - 0s - loss: 0.6323 - accuracy: 0.6505 - val_loss: 0.6417 - val_accuracy: 0.6496\n",
      "Epoch 17/200\n",
      "73/73 - 0s - loss: 0.6301 - accuracy: 0.6540 - val_loss: 0.6406 - val_accuracy: 0.6521\n",
      "Epoch 18/200\n",
      "73/73 - 0s - loss: 0.6286 - accuracy: 0.6527 - val_loss: 0.6389 - val_accuracy: 0.6521\n",
      "Epoch 19/200\n",
      "73/73 - 0s - loss: 0.6225 - accuracy: 0.6681 - val_loss: 0.6376 - val_accuracy: 0.6547\n",
      "Epoch 20/200\n",
      "73/73 - 0s - loss: 0.6205 - accuracy: 0.6651 - val_loss: 0.6360 - val_accuracy: 0.6573\n",
      "Epoch 21/200\n",
      "73/73 - 0s - loss: 0.6190 - accuracy: 0.6647 - val_loss: 0.6343 - val_accuracy: 0.6573\n",
      "Epoch 22/200\n",
      "73/73 - 0s - loss: 0.6129 - accuracy: 0.6621 - val_loss: 0.6332 - val_accuracy: 0.6573\n",
      "Epoch 23/200\n",
      "73/73 - 0s - loss: 0.6070 - accuracy: 0.6835 - val_loss: 0.6326 - val_accuracy: 0.6585\n",
      "Epoch 24/200\n",
      "73/73 - 0s - loss: 0.6076 - accuracy: 0.6775 - val_loss: 0.6313 - val_accuracy: 0.6547\n",
      "Epoch 25/200\n",
      "73/73 - 0s - loss: 0.6036 - accuracy: 0.6839 - val_loss: 0.6305 - val_accuracy: 0.6521\n",
      "Epoch 26/200\n",
      "73/73 - 0s - loss: 0.6009 - accuracy: 0.6737 - val_loss: 0.6296 - val_accuracy: 0.6560\n",
      "Epoch 27/200\n",
      "73/73 - 0s - loss: 0.5975 - accuracy: 0.6891 - val_loss: 0.6289 - val_accuracy: 0.6585\n",
      "Epoch 28/200\n",
      "73/73 - 0s - loss: 0.5964 - accuracy: 0.6848 - val_loss: 0.6285 - val_accuracy: 0.6534\n",
      "Epoch 29/200\n",
      "73/73 - 0s - loss: 0.5953 - accuracy: 0.6827 - val_loss: 0.6279 - val_accuracy: 0.6547\n",
      "Epoch 30/200\n",
      "73/73 - 0s - loss: 0.6012 - accuracy: 0.6771 - val_loss: 0.6274 - val_accuracy: 0.6560\n",
      "Epoch 31/200\n",
      "73/73 - 0s - loss: 0.6005 - accuracy: 0.6711 - val_loss: 0.6266 - val_accuracy: 0.6508\n",
      "Epoch 32/200\n",
      "73/73 - 0s - loss: 0.5939 - accuracy: 0.6831 - val_loss: 0.6259 - val_accuracy: 0.6534\n",
      "Epoch 33/200\n",
      "73/73 - 0s - loss: 0.5875 - accuracy: 0.6925 - val_loss: 0.6261 - val_accuracy: 0.6508\n",
      "Epoch 34/200\n",
      "73/73 - 0s - loss: 0.5843 - accuracy: 0.6955 - val_loss: 0.6264 - val_accuracy: 0.6508\n",
      "Epoch 35/200\n",
      "73/73 - 0s - loss: 0.5913 - accuracy: 0.6831 - val_loss: 0.6260 - val_accuracy: 0.6508\n",
      "Epoch 36/200\n",
      "73/73 - 0s - loss: 0.5886 - accuracy: 0.6891 - val_loss: 0.6260 - val_accuracy: 0.6483\n",
      "Epoch 37/200\n",
      "73/73 - 0s - loss: 0.5830 - accuracy: 0.6959 - val_loss: 0.6254 - val_accuracy: 0.6573\n",
      "Epoch 38/200\n",
      "73/73 - 0s - loss: 0.5851 - accuracy: 0.6968 - val_loss: 0.6251 - val_accuracy: 0.6585\n",
      "Epoch 39/200\n",
      "73/73 - 0s - loss: 0.5815 - accuracy: 0.6895 - val_loss: 0.6257 - val_accuracy: 0.6585\n",
      "Epoch 40/200\n",
      "73/73 - 0s - loss: 0.5884 - accuracy: 0.6951 - val_loss: 0.6248 - val_accuracy: 0.6611\n",
      "Epoch 41/200\n",
      "73/73 - 0s - loss: 0.5814 - accuracy: 0.6929 - val_loss: 0.6251 - val_accuracy: 0.6585\n",
      "Epoch 42/200\n",
      "73/73 - 0s - loss: 0.5773 - accuracy: 0.6981 - val_loss: 0.6256 - val_accuracy: 0.6585\n",
      "Epoch 43/200\n",
      "73/73 - 0s - loss: 0.5778 - accuracy: 0.6976 - val_loss: 0.6262 - val_accuracy: 0.6598\n",
      "Epoch 44/200\n",
      "73/73 - 0s - loss: 0.5801 - accuracy: 0.6921 - val_loss: 0.6258 - val_accuracy: 0.6611\n",
      "Epoch 45/200\n",
      "73/73 - 0s - loss: 0.5767 - accuracy: 0.6968 - val_loss: 0.6259 - val_accuracy: 0.6662\n",
      "Epoch 46/200\n",
      "73/73 - 0s - loss: 0.5719 - accuracy: 0.6964 - val_loss: 0.6263 - val_accuracy: 0.6637\n",
      "Epoch 47/200\n",
      "73/73 - 0s - loss: 0.5672 - accuracy: 0.7071 - val_loss: 0.6267 - val_accuracy: 0.6637\n",
      "Epoch 48/200\n",
      "73/73 - 0s - loss: 0.5733 - accuracy: 0.7024 - val_loss: 0.6259 - val_accuracy: 0.6637\n",
      "Epoch 49/200\n",
      "73/73 - 0s - loss: 0.5764 - accuracy: 0.6981 - val_loss: 0.6262 - val_accuracy: 0.6637\n",
      "Epoch 50/200\n",
      "73/73 - 0s - loss: 0.5702 - accuracy: 0.7019 - val_loss: 0.6258 - val_accuracy: 0.6637\n",
      "Epoch 51/200\n",
      "73/73 - 0s - loss: 0.5695 - accuracy: 0.6985 - val_loss: 0.6261 - val_accuracy: 0.6611\n",
      "Epoch 52/200\n",
      "73/73 - 0s - loss: 0.5663 - accuracy: 0.7006 - val_loss: 0.6264 - val_accuracy: 0.6637\n",
      "Epoch 53/200\n",
      "73/73 - 0s - loss: 0.5694 - accuracy: 0.7028 - val_loss: 0.6263 - val_accuracy: 0.6662\n",
      "Epoch 54/200\n",
      "73/73 - 0s - loss: 0.5649 - accuracy: 0.7041 - val_loss: 0.6270 - val_accuracy: 0.6675\n",
      "Epoch 55/200\n",
      "73/73 - 0s - loss: 0.5691 - accuracy: 0.6942 - val_loss: 0.6269 - val_accuracy: 0.6637\n",
      "Epoch 56/200\n",
      "73/73 - 0s - loss: 0.5652 - accuracy: 0.7071 - val_loss: 0.6279 - val_accuracy: 0.6662\n",
      "Epoch 57/200\n",
      "73/73 - 0s - loss: 0.5635 - accuracy: 0.7066 - val_loss: 0.6268 - val_accuracy: 0.6650\n",
      "Epoch 58/200\n",
      "73/73 - 0s - loss: 0.5697 - accuracy: 0.6998 - val_loss: 0.6274 - val_accuracy: 0.6662\n",
      "Epoch 59/200\n",
      "73/73 - 0s - loss: 0.5626 - accuracy: 0.7019 - val_loss: 0.6270 - val_accuracy: 0.6611\n",
      "Epoch 60/200\n",
      "73/73 - 0s - loss: 0.5709 - accuracy: 0.7071 - val_loss: 0.6273 - val_accuracy: 0.6611\n",
      "Epoch 61/200\n",
      "73/73 - 0s - loss: 0.5621 - accuracy: 0.7096 - val_loss: 0.6283 - val_accuracy: 0.6662\n",
      "Epoch 62/200\n",
      "73/73 - 0s - loss: 0.5626 - accuracy: 0.7105 - val_loss: 0.6278 - val_accuracy: 0.6624\n",
      "Epoch 63/200\n",
      "73/73 - 0s - loss: 0.5610 - accuracy: 0.7079 - val_loss: 0.6288 - val_accuracy: 0.6637\n",
      "Epoch 64/200\n",
      "73/73 - 0s - loss: 0.5584 - accuracy: 0.7088 - val_loss: 0.6294 - val_accuracy: 0.6650\n",
      "Epoch 65/200\n",
      "73/73 - 0s - loss: 0.5529 - accuracy: 0.7118 - val_loss: 0.6295 - val_accuracy: 0.6662\n",
      "Epoch 66/200\n",
      "73/73 - 0s - loss: 0.5559 - accuracy: 0.7105 - val_loss: 0.6306 - val_accuracy: 0.6624\n",
      "Epoch 67/200\n",
      "73/73 - 0s - loss: 0.5559 - accuracy: 0.7131 - val_loss: 0.6292 - val_accuracy: 0.6637\n",
      "Epoch 68/200\n",
      "73/73 - 0s - loss: 0.5587 - accuracy: 0.7212 - val_loss: 0.6287 - val_accuracy: 0.6650\n",
      "Epoch 69/200\n",
      "73/73 - 0s - loss: 0.5533 - accuracy: 0.7161 - val_loss: 0.6304 - val_accuracy: 0.6662\n",
      "Epoch 70/200\n",
      "73/73 - 0s - loss: 0.5537 - accuracy: 0.7216 - val_loss: 0.6308 - val_accuracy: 0.6611\n",
      "Epoch 71/200\n",
      "73/73 - 0s - loss: 0.5580 - accuracy: 0.7049 - val_loss: 0.6300 - val_accuracy: 0.6650\n",
      "Epoch 72/200\n",
      "73/73 - 0s - loss: 0.5499 - accuracy: 0.7118 - val_loss: 0.6313 - val_accuracy: 0.6573\n",
      "Epoch 73/200\n",
      "73/73 - 0s - loss: 0.5429 - accuracy: 0.7182 - val_loss: 0.6321 - val_accuracy: 0.6675\n",
      "Epoch 74/200\n",
      "73/73 - 0s - loss: 0.5527 - accuracy: 0.7152 - val_loss: 0.6325 - val_accuracy: 0.6573\n",
      "Epoch 75/200\n",
      "73/73 - 0s - loss: 0.5440 - accuracy: 0.7178 - val_loss: 0.6325 - val_accuracy: 0.6598\n",
      "Epoch 76/200\n",
      "73/73 - 0s - loss: 0.5417 - accuracy: 0.7268 - val_loss: 0.6345 - val_accuracy: 0.6650\n",
      "Epoch 77/200\n",
      "73/73 - 0s - loss: 0.5484 - accuracy: 0.7113 - val_loss: 0.6341 - val_accuracy: 0.6624\n",
      "Epoch 78/200\n",
      "73/73 - 0s - loss: 0.5472 - accuracy: 0.7139 - val_loss: 0.6350 - val_accuracy: 0.6624\n",
      "Epoch 79/200\n",
      "73/73 - 0s - loss: 0.5453 - accuracy: 0.7212 - val_loss: 0.6340 - val_accuracy: 0.6611\n",
      "Epoch 80/200\n",
      "73/73 - 0s - loss: 0.5450 - accuracy: 0.7255 - val_loss: 0.6352 - val_accuracy: 0.6637\n",
      "Epoch 81/200\n",
      "73/73 - 0s - loss: 0.5512 - accuracy: 0.7139 - val_loss: 0.6356 - val_accuracy: 0.6650\n",
      "Epoch 82/200\n",
      "73/73 - 0s - loss: 0.5443 - accuracy: 0.7246 - val_loss: 0.6356 - val_accuracy: 0.6598\n",
      "Epoch 83/200\n",
      "73/73 - 0s - loss: 0.5478 - accuracy: 0.7096 - val_loss: 0.6356 - val_accuracy: 0.6624\n",
      "Epoch 84/200\n",
      "73/73 - 0s - loss: 0.5442 - accuracy: 0.7195 - val_loss: 0.6361 - val_accuracy: 0.6624\n",
      "Epoch 85/200\n",
      "73/73 - 0s - loss: 0.5402 - accuracy: 0.7229 - val_loss: 0.6366 - val_accuracy: 0.6611\n",
      "Epoch 86/200\n",
      "73/73 - 0s - loss: 0.5348 - accuracy: 0.7276 - val_loss: 0.6381 - val_accuracy: 0.6611\n",
      "Epoch 87/200\n",
      "73/73 - 0s - loss: 0.5431 - accuracy: 0.7216 - val_loss: 0.6382 - val_accuracy: 0.6573\n",
      "Epoch 88/200\n",
      "73/73 - 0s - loss: 0.5348 - accuracy: 0.7229 - val_loss: 0.6391 - val_accuracy: 0.6611\n",
      "Epoch 89/200\n",
      "73/73 - 0s - loss: 0.5400 - accuracy: 0.7242 - val_loss: 0.6401 - val_accuracy: 0.6585\n",
      "Epoch 90/200\n",
      "73/73 - 0s - loss: 0.5371 - accuracy: 0.7242 - val_loss: 0.6392 - val_accuracy: 0.6637\n",
      "Epoch 91/200\n",
      "73/73 - 0s - loss: 0.5396 - accuracy: 0.7186 - val_loss: 0.6380 - val_accuracy: 0.6650\n",
      "Epoch 92/200\n",
      "73/73 - 0s - loss: 0.5390 - accuracy: 0.7349 - val_loss: 0.6389 - val_accuracy: 0.6637\n",
      "Epoch 93/200\n",
      "73/73 - 0s - loss: 0.5393 - accuracy: 0.7276 - val_loss: 0.6389 - val_accuracy: 0.6598\n",
      "Epoch 94/200\n",
      "73/73 - 0s - loss: 0.5291 - accuracy: 0.7362 - val_loss: 0.6405 - val_accuracy: 0.6585\n",
      "Epoch 95/200\n",
      "73/73 - 0s - loss: 0.5363 - accuracy: 0.7281 - val_loss: 0.6397 - val_accuracy: 0.6560\n",
      "Epoch 96/200\n",
      "73/73 - 0s - loss: 0.5317 - accuracy: 0.7358 - val_loss: 0.6401 - val_accuracy: 0.6560\n",
      "Epoch 97/200\n",
      "73/73 - 0s - loss: 0.5337 - accuracy: 0.7289 - val_loss: 0.6416 - val_accuracy: 0.6573\n",
      "Epoch 98/200\n",
      "73/73 - 0s - loss: 0.5316 - accuracy: 0.7340 - val_loss: 0.6418 - val_accuracy: 0.6573\n",
      "Epoch 99/200\n",
      "73/73 - 0s - loss: 0.5266 - accuracy: 0.7336 - val_loss: 0.6419 - val_accuracy: 0.6573\n",
      "Epoch 100/200\n",
      "73/73 - 0s - loss: 0.5295 - accuracy: 0.7358 - val_loss: 0.6431 - val_accuracy: 0.6637\n",
      "Epoch 101/200\n",
      "73/73 - 0s - loss: 0.5228 - accuracy: 0.7409 - val_loss: 0.6424 - val_accuracy: 0.6560\n",
      "Epoch 102/200\n",
      "73/73 - 0s - loss: 0.5255 - accuracy: 0.7332 - val_loss: 0.6434 - val_accuracy: 0.6637\n",
      "Epoch 103/200\n",
      "73/73 - 0s - loss: 0.5325 - accuracy: 0.7362 - val_loss: 0.6434 - val_accuracy: 0.6560\n",
      "Epoch 104/200\n",
      "73/73 - 0s - loss: 0.5278 - accuracy: 0.7263 - val_loss: 0.6434 - val_accuracy: 0.6573\n",
      "Epoch 105/200\n",
      "73/73 - 0s - loss: 0.5261 - accuracy: 0.7396 - val_loss: 0.6439 - val_accuracy: 0.6585\n",
      "Epoch 106/200\n",
      "73/73 - 0s - loss: 0.5270 - accuracy: 0.7340 - val_loss: 0.6442 - val_accuracy: 0.6598\n",
      "Epoch 107/200\n",
      "73/73 - 0s - loss: 0.5321 - accuracy: 0.7310 - val_loss: 0.6445 - val_accuracy: 0.6573\n",
      "Epoch 108/200\n",
      "73/73 - 0s - loss: 0.5199 - accuracy: 0.7409 - val_loss: 0.6453 - val_accuracy: 0.6611\n",
      "Epoch 109/200\n",
      "73/73 - 0s - loss: 0.5180 - accuracy: 0.7435 - val_loss: 0.6449 - val_accuracy: 0.6573\n",
      "Epoch 110/200\n",
      "73/73 - 0s - loss: 0.5188 - accuracy: 0.7418 - val_loss: 0.6464 - val_accuracy: 0.6560\n",
      "Epoch 111/200\n",
      "73/73 - 0s - loss: 0.5221 - accuracy: 0.7358 - val_loss: 0.6472 - val_accuracy: 0.6585\n",
      "Epoch 112/200\n",
      "73/73 - 0s - loss: 0.5169 - accuracy: 0.7409 - val_loss: 0.6482 - val_accuracy: 0.6573\n",
      "Epoch 113/200\n",
      "73/73 - 0s - loss: 0.5210 - accuracy: 0.7379 - val_loss: 0.6485 - val_accuracy: 0.6534\n",
      "Epoch 114/200\n",
      "73/73 - 0s - loss: 0.5211 - accuracy: 0.7366 - val_loss: 0.6484 - val_accuracy: 0.6560\n",
      "Epoch 115/200\n",
      "73/73 - 0s - loss: 0.5171 - accuracy: 0.7435 - val_loss: 0.6504 - val_accuracy: 0.6598\n",
      "Epoch 116/200\n",
      "73/73 - 0s - loss: 0.5166 - accuracy: 0.7405 - val_loss: 0.6502 - val_accuracy: 0.6521\n",
      "Epoch 117/200\n",
      "73/73 - 0s - loss: 0.5184 - accuracy: 0.7332 - val_loss: 0.6495 - val_accuracy: 0.6598\n",
      "Epoch 118/200\n",
      "73/73 - 0s - loss: 0.5159 - accuracy: 0.7469 - val_loss: 0.6473 - val_accuracy: 0.6598\n",
      "Epoch 119/200\n",
      "73/73 - 0s - loss: 0.5143 - accuracy: 0.7478 - val_loss: 0.6506 - val_accuracy: 0.6521\n",
      "Epoch 120/200\n",
      "73/73 - 0s - loss: 0.5177 - accuracy: 0.7465 - val_loss: 0.6515 - val_accuracy: 0.6560\n",
      "Epoch 121/200\n",
      "73/73 - 0s - loss: 0.5060 - accuracy: 0.7529 - val_loss: 0.6527 - val_accuracy: 0.6585\n",
      "Epoch 122/200\n",
      "73/73 - 0s - loss: 0.5160 - accuracy: 0.7435 - val_loss: 0.6522 - val_accuracy: 0.6560\n",
      "Epoch 123/200\n",
      "73/73 - 0s - loss: 0.5097 - accuracy: 0.7456 - val_loss: 0.6523 - val_accuracy: 0.6598\n",
      "Epoch 124/200\n",
      "73/73 - 0s - loss: 0.5081 - accuracy: 0.7555 - val_loss: 0.6545 - val_accuracy: 0.6598\n",
      "Epoch 125/200\n",
      "73/73 - 0s - loss: 0.5170 - accuracy: 0.7396 - val_loss: 0.6530 - val_accuracy: 0.6585\n",
      "Epoch 126/200\n",
      "73/73 - 0s - loss: 0.5089 - accuracy: 0.7495 - val_loss: 0.6541 - val_accuracy: 0.6598\n",
      "Epoch 127/200\n",
      "73/73 - 0s - loss: 0.5088 - accuracy: 0.7495 - val_loss: 0.6563 - val_accuracy: 0.6573\n",
      "Epoch 128/200\n",
      "73/73 - 0s - loss: 0.5081 - accuracy: 0.7503 - val_loss: 0.6548 - val_accuracy: 0.6598\n",
      "Epoch 129/200\n",
      "73/73 - 0s - loss: 0.5052 - accuracy: 0.7520 - val_loss: 0.6571 - val_accuracy: 0.6560\n",
      "Epoch 130/200\n",
      "73/73 - 0s - loss: 0.5026 - accuracy: 0.7550 - val_loss: 0.6563 - val_accuracy: 0.6598\n",
      "Epoch 131/200\n",
      "73/73 - 0s - loss: 0.5039 - accuracy: 0.7525 - val_loss: 0.6575 - val_accuracy: 0.6547\n",
      "Epoch 132/200\n",
      "73/73 - 0s - loss: 0.5031 - accuracy: 0.7520 - val_loss: 0.6584 - val_accuracy: 0.6598\n",
      "Epoch 133/200\n",
      "73/73 - 0s - loss: 0.5099 - accuracy: 0.7520 - val_loss: 0.6588 - val_accuracy: 0.6611\n",
      "Epoch 134/200\n",
      "73/73 - 0s - loss: 0.5054 - accuracy: 0.7546 - val_loss: 0.6576 - val_accuracy: 0.6624\n",
      "Epoch 135/200\n",
      "73/73 - 0s - loss: 0.4995 - accuracy: 0.7495 - val_loss: 0.6601 - val_accuracy: 0.6547\n",
      "Epoch 136/200\n",
      "73/73 - 0s - loss: 0.5030 - accuracy: 0.7529 - val_loss: 0.6600 - val_accuracy: 0.6598\n",
      "Epoch 137/200\n",
      "73/73 - 0s - loss: 0.5011 - accuracy: 0.7499 - val_loss: 0.6605 - val_accuracy: 0.6585\n",
      "Epoch 138/200\n",
      "73/73 - 0s - loss: 0.4976 - accuracy: 0.7555 - val_loss: 0.6616 - val_accuracy: 0.6573\n",
      "Epoch 139/200\n",
      "73/73 - 0s - loss: 0.4917 - accuracy: 0.7666 - val_loss: 0.6617 - val_accuracy: 0.6598\n",
      "Epoch 140/200\n",
      "73/73 - 0s - loss: 0.4954 - accuracy: 0.7567 - val_loss: 0.6609 - val_accuracy: 0.6560\n",
      "Epoch 141/200\n",
      "73/73 - 0s - loss: 0.4979 - accuracy: 0.7593 - val_loss: 0.6611 - val_accuracy: 0.6611\n",
      "Epoch 142/200\n",
      "73/73 - 0s - loss: 0.4979 - accuracy: 0.7559 - val_loss: 0.6620 - val_accuracy: 0.6611\n",
      "Epoch 143/200\n",
      "73/73 - 0s - loss: 0.4977 - accuracy: 0.7563 - val_loss: 0.6618 - val_accuracy: 0.6573\n",
      "Epoch 144/200\n",
      "73/73 - 0s - loss: 0.4998 - accuracy: 0.7555 - val_loss: 0.6647 - val_accuracy: 0.6573\n",
      "Epoch 145/200\n",
      "73/73 - 0s - loss: 0.4975 - accuracy: 0.7589 - val_loss: 0.6656 - val_accuracy: 0.6547\n",
      "Epoch 146/200\n",
      "73/73 - 0s - loss: 0.4944 - accuracy: 0.7559 - val_loss: 0.6656 - val_accuracy: 0.6560\n",
      "Epoch 147/200\n",
      "73/73 - 0s - loss: 0.4885 - accuracy: 0.7645 - val_loss: 0.6671 - val_accuracy: 0.6560\n",
      "Epoch 148/200\n",
      "73/73 - 0s - loss: 0.4987 - accuracy: 0.7546 - val_loss: 0.6674 - val_accuracy: 0.6585\n",
      "Epoch 149/200\n",
      "73/73 - 0s - loss: 0.4971 - accuracy: 0.7525 - val_loss: 0.6683 - val_accuracy: 0.6496\n",
      "Epoch 150/200\n",
      "73/73 - 0s - loss: 0.4939 - accuracy: 0.7546 - val_loss: 0.6672 - val_accuracy: 0.6547\n",
      "Epoch 151/200\n",
      "73/73 - 0s - loss: 0.4959 - accuracy: 0.7576 - val_loss: 0.6682 - val_accuracy: 0.6547\n",
      "Epoch 152/200\n",
      "73/73 - 0s - loss: 0.4933 - accuracy: 0.7627 - val_loss: 0.6693 - val_accuracy: 0.6521\n",
      "Epoch 153/200\n",
      "73/73 - 0s - loss: 0.4898 - accuracy: 0.7589 - val_loss: 0.6683 - val_accuracy: 0.6560\n",
      "Epoch 154/200\n",
      "73/73 - 0s - loss: 0.4890 - accuracy: 0.7623 - val_loss: 0.6688 - val_accuracy: 0.6534\n",
      "Epoch 155/200\n",
      "73/73 - 0s - loss: 0.4877 - accuracy: 0.7636 - val_loss: 0.6679 - val_accuracy: 0.6483\n",
      "Epoch 156/200\n",
      "73/73 - 0s - loss: 0.4951 - accuracy: 0.7636 - val_loss: 0.6695 - val_accuracy: 0.6573\n",
      "Epoch 157/200\n",
      "73/73 - 0s - loss: 0.4826 - accuracy: 0.7662 - val_loss: 0.6690 - val_accuracy: 0.6534\n",
      "Epoch 158/200\n",
      "73/73 - 0s - loss: 0.4917 - accuracy: 0.7610 - val_loss: 0.6700 - val_accuracy: 0.6547\n",
      "Epoch 159/200\n",
      "73/73 - 0s - loss: 0.4851 - accuracy: 0.7704 - val_loss: 0.6715 - val_accuracy: 0.6547\n",
      "Epoch 160/200\n",
      "73/73 - 0s - loss: 0.4833 - accuracy: 0.7679 - val_loss: 0.6725 - val_accuracy: 0.6534\n",
      "Epoch 161/200\n",
      "73/73 - 0s - loss: 0.4863 - accuracy: 0.7645 - val_loss: 0.6717 - val_accuracy: 0.6521\n",
      "Epoch 162/200\n",
      "73/73 - 0s - loss: 0.4822 - accuracy: 0.7743 - val_loss: 0.6732 - val_accuracy: 0.6611\n",
      "Epoch 163/200\n",
      "73/73 - 0s - loss: 0.4895 - accuracy: 0.7589 - val_loss: 0.6722 - val_accuracy: 0.6534\n",
      "Epoch 164/200\n",
      "73/73 - 0s - loss: 0.4804 - accuracy: 0.7692 - val_loss: 0.6755 - val_accuracy: 0.6547\n",
      "Epoch 165/200\n",
      "73/73 - 0s - loss: 0.4780 - accuracy: 0.7726 - val_loss: 0.6766 - val_accuracy: 0.6547\n",
      "Epoch 166/200\n",
      "73/73 - 0s - loss: 0.4811 - accuracy: 0.7632 - val_loss: 0.6749 - val_accuracy: 0.6573\n",
      "Epoch 167/200\n",
      "73/73 - 0s - loss: 0.4800 - accuracy: 0.7679 - val_loss: 0.6758 - val_accuracy: 0.6534\n",
      "Epoch 168/200\n",
      "73/73 - 0s - loss: 0.4817 - accuracy: 0.7739 - val_loss: 0.6751 - val_accuracy: 0.6573\n",
      "Epoch 169/200\n",
      "73/73 - 0s - loss: 0.4719 - accuracy: 0.7739 - val_loss: 0.6770 - val_accuracy: 0.6573\n",
      "Epoch 170/200\n",
      "73/73 - 0s - loss: 0.4813 - accuracy: 0.7717 - val_loss: 0.6765 - val_accuracy: 0.6534\n",
      "Epoch 171/200\n",
      "73/73 - 0s - loss: 0.4820 - accuracy: 0.7623 - val_loss: 0.6779 - val_accuracy: 0.6534\n",
      "Epoch 172/200\n",
      "73/73 - 0s - loss: 0.4760 - accuracy: 0.7610 - val_loss: 0.6773 - val_accuracy: 0.6573\n",
      "Epoch 173/200\n",
      "73/73 - 0s - loss: 0.4840 - accuracy: 0.7662 - val_loss: 0.6777 - val_accuracy: 0.6496\n",
      "Epoch 174/200\n",
      "73/73 - 0s - loss: 0.4767 - accuracy: 0.7696 - val_loss: 0.6792 - val_accuracy: 0.6521\n",
      "Epoch 175/200\n",
      "73/73 - 0s - loss: 0.4766 - accuracy: 0.7649 - val_loss: 0.6796 - val_accuracy: 0.6585\n",
      "Epoch 176/200\n",
      "73/73 - 0s - loss: 0.4729 - accuracy: 0.7704 - val_loss: 0.6808 - val_accuracy: 0.6560\n",
      "Epoch 177/200\n",
      "73/73 - 0s - loss: 0.4807 - accuracy: 0.7657 - val_loss: 0.6803 - val_accuracy: 0.6560\n",
      "Epoch 178/200\n",
      "73/73 - 0s - loss: 0.4775 - accuracy: 0.7743 - val_loss: 0.6840 - val_accuracy: 0.6406\n",
      "Epoch 179/200\n",
      "73/73 - 0s - loss: 0.4755 - accuracy: 0.7752 - val_loss: 0.6843 - val_accuracy: 0.6534\n",
      "Epoch 180/200\n",
      "73/73 - 0s - loss: 0.4698 - accuracy: 0.7730 - val_loss: 0.6843 - val_accuracy: 0.6611\n",
      "Epoch 181/200\n",
      "73/73 - 0s - loss: 0.4638 - accuracy: 0.7816 - val_loss: 0.6836 - val_accuracy: 0.6547\n",
      "Epoch 182/200\n",
      "73/73 - 0s - loss: 0.4741 - accuracy: 0.7756 - val_loss: 0.6829 - val_accuracy: 0.6508\n",
      "Epoch 183/200\n",
      "73/73 - 0s - loss: 0.4757 - accuracy: 0.7730 - val_loss: 0.6820 - val_accuracy: 0.6560\n",
      "Epoch 184/200\n",
      "73/73 - 0s - loss: 0.4695 - accuracy: 0.7662 - val_loss: 0.6854 - val_accuracy: 0.6598\n",
      "Epoch 185/200\n",
      "73/73 - 0s - loss: 0.4661 - accuracy: 0.7782 - val_loss: 0.6840 - val_accuracy: 0.6521\n",
      "Epoch 186/200\n",
      "73/73 - 0s - loss: 0.4735 - accuracy: 0.7722 - val_loss: 0.6856 - val_accuracy: 0.6534\n",
      "Epoch 187/200\n",
      "73/73 - 0s - loss: 0.4634 - accuracy: 0.7820 - val_loss: 0.6849 - val_accuracy: 0.6444\n",
      "Epoch 188/200\n",
      "73/73 - 0s - loss: 0.4592 - accuracy: 0.7829 - val_loss: 0.6885 - val_accuracy: 0.6496\n",
      "Epoch 189/200\n",
      "73/73 - 0s - loss: 0.4707 - accuracy: 0.7739 - val_loss: 0.6876 - val_accuracy: 0.6483\n",
      "Epoch 190/200\n",
      "73/73 - 0s - loss: 0.4632 - accuracy: 0.7760 - val_loss: 0.6905 - val_accuracy: 0.6508\n",
      "Epoch 191/200\n",
      "73/73 - 0s - loss: 0.4597 - accuracy: 0.7782 - val_loss: 0.6916 - val_accuracy: 0.6508\n",
      "Epoch 192/200\n",
      "73/73 - 0s - loss: 0.4607 - accuracy: 0.7854 - val_loss: 0.6929 - val_accuracy: 0.6483\n",
      "Epoch 193/200\n",
      "73/73 - 0s - loss: 0.4599 - accuracy: 0.7799 - val_loss: 0.6938 - val_accuracy: 0.6521\n",
      "Epoch 194/200\n",
      "73/73 - 0s - loss: 0.4559 - accuracy: 0.7872 - val_loss: 0.6930 - val_accuracy: 0.6470\n",
      "Epoch 195/200\n",
      "73/73 - 0s - loss: 0.4555 - accuracy: 0.7850 - val_loss: 0.6934 - val_accuracy: 0.6508\n",
      "Epoch 196/200\n",
      "73/73 - 0s - loss: 0.4608 - accuracy: 0.7734 - val_loss: 0.6927 - val_accuracy: 0.6483\n",
      "Epoch 197/200\n",
      "73/73 - 0s - loss: 0.4576 - accuracy: 0.7803 - val_loss: 0.6947 - val_accuracy: 0.6457\n",
      "Epoch 198/200\n",
      "73/73 - 0s - loss: 0.4584 - accuracy: 0.7889 - val_loss: 0.6955 - val_accuracy: 0.6534\n",
      "Epoch 199/200\n",
      "73/73 - 0s - loss: 0.4656 - accuracy: 0.7816 - val_loss: 0.6959 - val_accuracy: 0.6508\n",
      "Epoch 200/200\n",
      "73/73 - 0s - loss: 0.4514 - accuracy: 0.7901 - val_loss: 0.6973 - val_accuracy: 0.6496\n"
     ]
    }
   ],
   "source": [
    "tf.random.set_seed(0)\n",
    "history = model.fit(X_train, Y_train,\n",
    "          batch_size=32, epochs=200,\n",
    "          verbose=2,\n",
    "          validation_data=(X_test, Y_test))\n"
   ]
  },
  {
   "cell_type": "code",
   "execution_count": 61,
   "id": "7cc18ae0",
   "metadata": {
    "execution": {
     "iopub.execute_input": "2021-10-24T11:54:16.941486Z",
     "iopub.status.busy": "2021-10-24T11:54:16.933596Z",
     "iopub.status.idle": "2021-10-24T11:54:17.504786Z",
     "shell.execute_reply": "2021-10-24T11:54:17.504262Z",
     "shell.execute_reply.started": "2021-10-24T11:51:40.834648Z"
    },
    "papermill": {
     "duration": 0.845899,
     "end_time": "2021-10-24T11:54:17.504966",
     "exception": false,
     "start_time": "2021-10-24T11:54:16.659067",
     "status": "completed"
    },
    "tags": []
   },
   "outputs": [
    {
     "data": {
      "image/png": "[encoded data removed]",
      "text/plain": [
       "<Figure size 360x360 with 2 Axes>"
      ]
     },
     "metadata": {},
     "output_type": "display_data"
    }
   ],
   "source": [
    "# plotting the metrics\n",
    "fig = plt.figure()\n",
    "plt.subplot(2,1,1)\n",
    "plt.plot(history.history['accuracy'])\n",
    "plt.plot(history.history['val_accuracy'])\n",
    "plt.title('model accuracy')\n",
    "plt.ylabel('accuracy')\n",
    "plt.xlabel('epoch')\n",
    "plt.legend(['train', 'test'], loc='lower right')\n",
    "\n",
    "plt.subplot(2,1,2)\n",
    "plt.plot(history.history['loss'])\n",
    "plt.plot(history.history['val_loss'])\n",
    "plt.title('model loss')\n",
    "plt.ylabel('loss')\n",
    "plt.xlabel('epoch')\n",
    "plt.legend(['train', 'test'], loc='upper right')\n",
    "\n",
    "plt.tight_layout()"
   ]
  }
 ],
 "metadata": {
  "kernelspec": {
   "display_name": "Python 3",
   "language": "python",
   "name": "python3"
  },
  "language_info": {
   "codemirror_mode": {
    "name": "ipython",
    "version": 3
   },
   "file_extension": ".py",
   "mimetype": "text/x-python",
   "name": "python",
   "nbconvert_exporter": "python",
   "pygments_lexer": "ipython3",
   "version": "3.7.10"
  },
  "papermill": {
   "default_parameters": {},
   "duration": 78.917726,
   "end_time": "2021-10-24T11:54:19.817059",
   "environment_variables": {},
   "exception": null,
   "input_path": "__notebook__.ipynb",
   "output_path": "__notebook__.ipynb",
   "parameters": {},
   "start_time": "2021-10-24T11:53:00.899333",
   "version": "2.3.3"
  }
 },
 "nbformat": 4,
 "nbformat_minor": 5
}
